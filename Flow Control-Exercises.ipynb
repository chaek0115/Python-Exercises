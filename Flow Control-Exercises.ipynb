{
 "cells": [
  {
   "cell_type": "markdown",
   "metadata": {},
   "source": [
    "### Good morning Vietnam"
   ]
  },
  {
   "cell_type": "markdown",
   "metadata": {},
   "source": [
    "Write a program that asks the user \"Is it morning?\". If the answer is \"yes\", print \"Good morning Vietnam\". Otherwise, print \"Good night Basildon\"."
   ]
  },
  {
   "cell_type": "code",
   "execution_count": 3,
   "metadata": {},
   "outputs": [
    {
     "name": "stdin",
     "output_type": "stream",
     "text": [
      "Is it moring? yes or no:  yes\n"
     ]
    },
    {
     "name": "stdout",
     "output_type": "stream",
     "text": [
      "Good morning Vietnam\n"
     ]
    }
   ],
   "source": [
    "user_input=input(\"Is it moring? yes or no: \").strip().lower()\n",
    "if user_input==\"yes\":\n",
    "    print(\"Good morning Vietnam\")\n",
    "else: \n",
    "    print(\"Good night Basildon\")"
   ]
  },
  {
   "cell_type": "markdown",
   "metadata": {},
   "source": [
    "### Making ends meet"
   ]
  },
  {
   "cell_type": "markdown",
   "metadata": {},
   "source": [
    "Write a program that asks for the name of a month, and outputs the number of days in that month."
   ]
  },
  {
   "cell_type": "code",
   "execution_count": 11,
   "metadata": {},
   "outputs": [
    {
     "name": "stdin",
     "output_type": "stream",
     "text": [
      "Enter a name of a month:  february\n"
     ]
    },
    {
     "name": "stdout",
     "output_type": "stream",
     "text": [
      "February has 28 days or 29 days in the loop year\n"
     ]
    }
   ],
   "source": [
    "days={\"January\":\"31\",\n",
    "     \"February\":\"28 or 29\",\n",
    "     \"March\":\"31\",\n",
    "     \"April\":\"30\",\n",
    "     \"May\":\"31\",\n",
    "     \"June\":\"30\",\n",
    "     \"July\":\"31\",\n",
    "     \"August\":\"31\",\n",
    "     \"September\":\"30\",\n",
    "     \"October\":\"31\",\n",
    "     \"November\":\"30\",\n",
    "     \"December\":\"31\"}\n",
    "\n",
    "month=input(\"Enter a name of a month: \").strip().capitalize()\n",
    "\n",
    "if month in days: \n",
    "    if month==\"February\":\n",
    "        print(\"February has 28 days or 29 days in the loop year\")\n",
    "\n",
    "elif month in days:\n",
    "    print(f\"{month} has {days[month]} days\")\n",
    "\n",
    "else: \n",
    "    print(\"invalid month name. Try again\")"
   ]
  },
  {
   "cell_type": "markdown",
   "metadata": {},
   "source": [
    "### Leap year proposal"
   ]
  },
  {
   "cell_type": "markdown",
   "metadata": {},
   "source": [
    "Write a program that asks the user for the current year. Check to see if it is a leap year (leap years are divisible by 4 but not by 100). If so, print \"Will you marry me?\". Try it with your neighbour. Or not."
   ]
  },
  {
   "cell_type": "code",
   "execution_count": 14,
   "metadata": {},
   "outputs": [
    {
     "name": "stdin",
     "output_type": "stream",
     "text": [
      "What year is it today? 2024\n"
     ]
    },
    {
     "name": "stdout",
     "output_type": "stream",
     "text": [
      "Will you marry me?\n"
     ]
    }
   ],
   "source": [
    "user_year=int(input(\"What year is it today?\"))\n",
    "if user_year%4==0 and user_year%100!=0:\n",
    "    print(\"Will you marry me?\")\n",
    "else:\n",
    "    print(\"not yet...\")"
   ]
  },
  {
   "cell_type": "markdown",
   "metadata": {},
   "source": [
    "### No ifs or buts"
   ]
  },
  {
   "cell_type": "markdown",
   "metadata": {},
   "source": [
    "Go over all the Comparison operators and Logical operators listed [here](http://www.tutorialspoint.com/python/python_basic_operators.htm).\n",
    "\n",
    "Play with them and make sure you understand what they do"
   ]
  },
  {
   "cell_type": "code",
   "execution_count": 15,
   "metadata": {},
   "outputs": [
    {
     "name": "stdout",
     "output_type": "stream",
     "text": [
      "True\n",
      "True\n"
     ]
    }
   ],
   "source": [
    "# Example:\n",
    "print(5!=4)\n",
    "print(True or False)\n",
    "# add here below..."
   ]
  },
  {
   "cell_type": "markdown",
   "metadata": {},
   "source": [
    "### Think positive"
   ]
  },
  {
   "cell_type": "markdown",
   "metadata": {},
   "source": [
    "Write a list comprehension that creates a copy of a list of numbers, including only the positive ones.\n",
    "\n",
    "For instance ```[-3, 2.5 ,-1, 2]``` should yield ```[2.5, 2]```"
   ]
  },
  {
   "cell_type": "code",
   "execution_count": 19,
   "metadata": {},
   "outputs": [
    {
     "name": "stdout",
     "output_type": "stream",
     "text": [
      "[2.5, 2]\n"
     ]
    }
   ],
   "source": [
    "numbers=[-3,2.5,-1,2]\n",
    "positive=[num for num in numbers if num >0]\n",
    "print(positive)"
   ]
  },
  {
   "cell_type": "markdown",
   "metadata": {},
   "source": [
    "Modify it using conditional expressions so that the negative numbers in the input list get their sign changed.\n",
    "\n",
    "Example: ```[-3, 2.5 ,-1, 2]``` -> ```[3, 2.5, 1, 2]```"
   ]
  },
  {
   "cell_type": "code",
   "execution_count": 24,
   "metadata": {},
   "outputs": [
    {
     "name": "stdout",
     "output_type": "stream",
     "text": [
      "[3, 2.5, 1, 2]\n"
     ]
    }
   ],
   "source": [
    "numbers=[-3,2.5,-1,2]\n",
    "adjusted_numbers=[num if num>0 else -num for num in numbers]\n",
    "print(adjusted_numbers)"
   ]
  },
  {
   "cell_type": "markdown",
   "metadata": {},
   "source": [
    "### The Maths"
   ]
  },
  {
   "cell_type": "markdown",
   "metadata": {},
   "source": [
    "Write a program that uses a ```for``` loop to print the multiplication  table for a number entered by the user. "
   ]
  },
  {
   "cell_type": "code",
   "execution_count": 29,
   "metadata": {},
   "outputs": [
    {
     "name": "stdin",
     "output_type": "stream",
     "text": [
      "Enter a number:  5\n"
     ]
    },
    {
     "name": "stdout",
     "output_type": "stream",
     "text": [
      "3125\n"
     ]
    }
   ],
   "source": [
    "user_input=(input(\"Enter a number: \")) \n",
    "for x in user_input: \n",
    "    print(int(x)**int(x))"
   ]
  },
  {
   "cell_type": "markdown",
   "metadata": {},
   "source": [
    "### Advanced Maths"
   ]
  },
  {
   "cell_type": "markdown",
   "metadata": {},
   "source": [
    "Use two nested ```for``` loops to print the complete multiplication table for all numbers from 1 till 10. Try to print it out as a nicely formatted table."
   ]
  },
  {
   "cell_type": "code",
   "execution_count": 31,
   "metadata": {},
   "outputs": [
    {
     "name": "stdin",
     "output_type": "stream",
     "text": [
      "Enter a numbr:  5\n"
     ]
    },
    {
     "name": "stdout",
     "output_type": "stream",
     "text": [
      "5*1=5\n",
      "5*2=55\n",
      "5*3=555\n",
      "5*4=5555\n",
      "5*5=55555\n",
      "5*6=555555\n",
      "5*7=5555555\n",
      "5*8=55555555\n",
      "5*9=555555555\n",
      "5*10=5555555555\n"
     ]
    }
   ],
   "source": [
    "user_input=input(\"Enter a numbr: \")\n",
    "for x in range(1,11):\n",
    "    result=user_input*x\n",
    "    print(f\"{user_input}*{x}={result}\")"
   ]
  },
  {
   "cell_type": "markdown",
   "metadata": {},
   "source": [
    "### Very advanced Maths"
   ]
  },
  {
   "cell_type": "markdown",
   "metadata": {},
   "source": [
    "You may want to attempt this later, if you have time. Try computing the first *n* lines of [Pascal's triangle](http://en.wikipedia.org/wiki/Pascal%27s_triangle).\n",
    "\n",
    "Apart for the initial and final 1 of each line, each number is the sum of those above it to the left and to the right. So if you have a line of the triangle stored as a list, you can:\n",
    "\n",
    "* make a copy of the current line (use ```[:]``` to copy all elements, simply creating references to the same list won't work)\n",
    "* chop the leading \"1\" off the original and the trailing \"1\" off the copy\n",
    "* sum them element by element\n",
    "* add a leading \"1\" and a trailing \"1\" to complete the next line\n",
    "* print it and never mind the formatting"
   ]
  },
  {
   "cell_type": "code",
   "execution_count": 32,
   "metadata": {},
   "outputs": [
    {
     "name": "stdout",
     "output_type": "stream",
     "text": [
      "[1]\n",
      "[1, 1]\n",
      "[1, 2, 1]\n",
      "[1, 3, 3, 1]\n",
      "[1, 4, 6, 4, 1]\n"
     ]
    }
   ],
   "source": [
    "n=5\n",
    "line=[1] \n",
    "for i in range(0,n):\n",
    "    print (line)\n",
    "    head=line[:-1] \n",
    "    tail=line[1:]\n",
    "   \n",
    "    newline=[x+y for x,y in zip(head, tail) ]\n",
    "    newline.insert(0,1) \n",
    "    newline.append(1) \n",
    "    line=newline"
   ]
  },
  {
   "cell_type": "code",
   "execution_count": 60,
   "metadata": {},
   "outputs": [
    {
     "name": "stdout",
     "output_type": "stream",
     "text": [
      "   1   2   3   4   5   6   7   8   9  10\n",
      "   2   4   6   8  10  12  14  16  18  20\n",
      "   3   6   9  12  15  18  21  24  27  30\n",
      "   4   8  12  16  20  24  28  32  36  40\n",
      "   5  10  15  20  25  30  35  40  45  50\n",
      "   6  12  18  24  30  36  42  48  54  60\n",
      "   7  14  21  28  35  42  49  56  63  70\n",
      "   8  16  24  32  40  48  56  64  72  80\n",
      "   9  18  27  36  45  54  63  72  81  90\n",
      "  10  20  30  40  50  60  70  80  90 100\n"
     ]
    }
   ],
   "source": [
    "# Creating a 10*10 table\n",
    "\n",
    "for x in range(1,11):\n",
    "    for y in range(1,11):\n",
    "        print(f\"{x*y:4}\",end='')\n",
    "    print()\n"
   ]
  },
  {
   "cell_type": "markdown",
   "metadata": {},
   "source": [
    "### A guessing game"
   ]
  },
  {
   "cell_type": "markdown",
   "metadata": {},
   "source": [
    "Use the code below to generate a random number between 1 and 10 included and store it in the variable ```secret```. "
   ]
  },
  {
   "cell_type": "code",
   "execution_count": 33,
   "metadata": {},
   "outputs": [],
   "source": [
    "import random\n",
    "random.seed() \n",
    "secret=random.randint(1,10)\n"
   ]
  },
  {
   "cell_type": "markdown",
   "metadata": {},
   "source": [
    "Use a ```while``` loop to keep asking the user for a guess until he finds the secret. Print the number of attempts."
   ]
  },
  {
   "cell_type": "code",
   "execution_count": 35,
   "metadata": {},
   "outputs": [
    {
     "name": "stdin",
     "output_type": "stream",
     "text": [
      "Enter your guess 3\n"
     ]
    },
    {
     "name": "stdout",
     "output_type": "stream",
     "text": [
      "Correct\n"
     ]
    }
   ],
   "source": [
    "guess=None \n",
    "attempts=0\n",
    "\n",
    "while guess!=secret: \n",
    "    guess=input(\"Enter your guess\")\n",
    "    attempts+=1\n",
    "    break\n",
    "print(\"Correct\")\n",
    "\n",
    "\n"
   ]
  },
  {
   "cell_type": "markdown",
   "metadata": {},
   "source": [
    "### Caesar cypher"
   ]
  },
  {
   "cell_type": "markdown",
   "metadata": {},
   "source": [
    "In cryptography, a Caesar cipher is a very simple encryption techniques in which each letter in the plain text is replaced by a letter some fixed number of positions down the alphabet. For example, with a shift of 3, A would be replaced by D, B would become E, and so on. The method is named after Julius Caesar, who used it to communicate with his generals. ROT-13 (\"rotate by 13 places\") is a widely used example of a Caesar cipher where the shift is 13. In Python, the key for ROT-13 may be represented by means of the following dictionary:\n",
    "\n",
    "```\n",
    "key = {'a':'n', 'b':'o', 'c':'p', 'd':'q', 'e':'r', 'f':'s', 'g':'t', 'h':'u', \n",
    "       'i':'v', 'j':'w', 'k':'x', 'l':'y', 'm':'z', 'n':'a', 'o':'b', 'p':'c', \n",
    "       'q':'d', 'r':'e', 's':'f', 't':'g', 'u':'h', 'v':'i', 'w':'j', 'x':'k',\n",
    "       'y':'l', 'z':'m', 'A':'N', 'B':'O', 'C':'P', 'D':'Q', 'E':'R', 'F':'S', \n",
    "       'G':'T', 'H':'U', 'I':'V', 'J':'W', 'K':'X', 'L':'Y', 'M':'Z', 'N':'A', \n",
    "       'O':'B', 'P':'C', 'Q':'D', 'R':'E', 'S':'F', 'T':'G', 'U':'H', 'V':'I', \n",
    "       'W':'J', 'X':'K', 'Y':'L', 'Z':'M'}\n",
    "```\n",
    "\n",
    "Your task in this exercise is to implement an encoder/decoder of ROT-13. Once you're done, you will be able to read the following secret message:\n",
    "\n",
    "   ```Pnrfne pvcure? V zhpu cersre Pnrfne fnynq!```\n",
    "   \n",
    "Note that since English has 26 characters, your ROT-13 program will be able to both encode and decode texts written in English.\n",
    "\n",
    "(Credits: [Thorbjoern Lager](https://www.gu.se/english/about_the_university/staff/?languageId=100001&userId=xlagto))"
   ]
  },
  {
   "cell_type": "code",
   "execution_count": 65,
   "metadata": {},
   "outputs": [
    {
     "name": "stdout",
     "output_type": "stream",
     "text": [
      "the decoded message is: Caesar cipher? I much prefer Caesar salad!\n"
     ]
    }
   ],
   "source": [
    "key = {'a':'n', 'b':'o', 'c':'p', 'd':'q', 'e':'r', 'f':'s', 'g':'t', 'h':'u', \n",
    "       'i':'v', 'j':'w', 'k':'x', 'l':'y', 'm':'z', 'n':'a', 'o':'b', 'p':'c', \n",
    "       'q':'d', 'r':'e', 's':'f', 't':'g', 'u':'h', 'v':'i', 'w':'j', 'x':'k',\n",
    "       'y':'l', 'z':'m', 'A':'N', 'B':'O', 'C':'P', 'D':'Q', 'E':'R', 'F':'S', \n",
    "       'G':'T', 'H':'U', 'I':'V', 'J':'W', 'K':'X', 'L':'Y', 'M':'Z', 'N':'A', \n",
    "       'O':'B', 'P':'C', 'Q':'D', 'R':'E', 'S':'F', 'T':'G', 'U':'H', 'V':'I', \n",
    "       'W':'J', 'X':'K', 'Y':'L', 'Z':'M'}\n",
    "\n",
    "secret_message=\"Pnrfne pvcure? V zhpu cersre Pnrfne fnynq!\"\n",
    "decoded_message=\"\"\n",
    "for x in secret_message:\n",
    "    decoded_message=decoded_message+key.get(x,x)\n",
    "print(\"the decoded message is: \"+ decoded_message)\n",
    "\n"
   ]
  },
  {
   "cell_type": "markdown",
   "metadata": {},
   "source": [
    "### 99 bottles of beer"
   ]
  },
  {
   "cell_type": "markdown",
   "metadata": {},
   "source": [
    "\"99 Bottles of Beer\" is a traditional song in the United States and Canada. It is popular to sing on long trips, as it has a very repetitive format which is easy to memorize, and can take a long time to sing. The song's simple lyrics are as follows:\n",
    "\n",
    "99 bottles of beer on the wall, 99 bottles of beer.\n",
    "Take one down, pass it around, 98 bottles of beer on the wall.\n",
    "\n",
    "The same verse is repeated, each time with one less bottle. The song is completed when the singer or singers reach zero.\n",
    "\n",
    "Your task here is to write a Python program capable of generating all the verses of the song.\n",
    "\n",
    "(By [Thorbjoern Lager](https://www.gu.se/english/about_the_university/staff/?languageId=100001&userId=xlagto).  Optional: modify your program so that the numbers are printed out in words instead than in digits)"
   ]
  },
  {
   "cell_type": "code",
   "execution_count": 69,
   "metadata": {},
   "outputs": [
    {
     "name": "stdout",
     "output_type": "stream",
     "text": [
      "99 bottles of beer on the wall, 99 bottlesof beer.\n",
      "Take one down, pass it around, 98 bottles of beer on the wall\n",
      "98 bottles of beer on the wall, 98 bottlesof beer.\n",
      "Take one down, pass it around, 97 bottles of beer on the wall\n",
      "97 bottles of beer on the wall, 97 bottlesof beer.\n",
      "Take one down, pass it around, 96 bottles of beer on the wall\n",
      "96 bottles of beer on the wall, 96 bottlesof beer.\n",
      "Take one down, pass it around, 95 bottles of beer on the wall\n",
      "95 bottles of beer on the wall, 95 bottlesof beer.\n",
      "Take one down, pass it around, 94 bottles of beer on the wall\n",
      "94 bottles of beer on the wall, 94 bottlesof beer.\n",
      "Take one down, pass it around, 93 bottles of beer on the wall\n",
      "93 bottles of beer on the wall, 93 bottlesof beer.\n",
      "Take one down, pass it around, 92 bottles of beer on the wall\n",
      "92 bottles of beer on the wall, 92 bottlesof beer.\n",
      "Take one down, pass it around, 91 bottles of beer on the wall\n",
      "91 bottles of beer on the wall, 91 bottlesof beer.\n",
      "Take one down, pass it around, 90 bottles of beer on the wall\n",
      "90 bottles of beer on the wall, 90 bottlesof beer.\n",
      "Take one down, pass it around, 89 bottles of beer on the wall\n",
      "89 bottles of beer on the wall, 89 bottlesof beer.\n",
      "Take one down, pass it around, 88 bottles of beer on the wall\n",
      "88 bottles of beer on the wall, 88 bottlesof beer.\n",
      "Take one down, pass it around, 87 bottles of beer on the wall\n",
      "87 bottles of beer on the wall, 87 bottlesof beer.\n",
      "Take one down, pass it around, 86 bottles of beer on the wall\n",
      "86 bottles of beer on the wall, 86 bottlesof beer.\n",
      "Take one down, pass it around, 85 bottles of beer on the wall\n",
      "85 bottles of beer on the wall, 85 bottlesof beer.\n",
      "Take one down, pass it around, 84 bottles of beer on the wall\n",
      "84 bottles of beer on the wall, 84 bottlesof beer.\n",
      "Take one down, pass it around, 83 bottles of beer on the wall\n",
      "83 bottles of beer on the wall, 83 bottlesof beer.\n",
      "Take one down, pass it around, 82 bottles of beer on the wall\n",
      "82 bottles of beer on the wall, 82 bottlesof beer.\n",
      "Take one down, pass it around, 81 bottles of beer on the wall\n",
      "81 bottles of beer on the wall, 81 bottlesof beer.\n",
      "Take one down, pass it around, 80 bottles of beer on the wall\n",
      "80 bottles of beer on the wall, 80 bottlesof beer.\n",
      "Take one down, pass it around, 79 bottles of beer on the wall\n",
      "79 bottles of beer on the wall, 79 bottlesof beer.\n",
      "Take one down, pass it around, 78 bottles of beer on the wall\n",
      "78 bottles of beer on the wall, 78 bottlesof beer.\n",
      "Take one down, pass it around, 77 bottles of beer on the wall\n",
      "77 bottles of beer on the wall, 77 bottlesof beer.\n",
      "Take one down, pass it around, 76 bottles of beer on the wall\n",
      "76 bottles of beer on the wall, 76 bottlesof beer.\n",
      "Take one down, pass it around, 75 bottles of beer on the wall\n",
      "75 bottles of beer on the wall, 75 bottlesof beer.\n",
      "Take one down, pass it around, 74 bottles of beer on the wall\n",
      "74 bottles of beer on the wall, 74 bottlesof beer.\n",
      "Take one down, pass it around, 73 bottles of beer on the wall\n",
      "73 bottles of beer on the wall, 73 bottlesof beer.\n",
      "Take one down, pass it around, 72 bottles of beer on the wall\n",
      "72 bottles of beer on the wall, 72 bottlesof beer.\n",
      "Take one down, pass it around, 71 bottles of beer on the wall\n",
      "71 bottles of beer on the wall, 71 bottlesof beer.\n",
      "Take one down, pass it around, 70 bottles of beer on the wall\n",
      "70 bottles of beer on the wall, 70 bottlesof beer.\n",
      "Take one down, pass it around, 69 bottles of beer on the wall\n",
      "69 bottles of beer on the wall, 69 bottlesof beer.\n",
      "Take one down, pass it around, 68 bottles of beer on the wall\n",
      "68 bottles of beer on the wall, 68 bottlesof beer.\n",
      "Take one down, pass it around, 67 bottles of beer on the wall\n",
      "67 bottles of beer on the wall, 67 bottlesof beer.\n",
      "Take one down, pass it around, 66 bottles of beer on the wall\n",
      "66 bottles of beer on the wall, 66 bottlesof beer.\n",
      "Take one down, pass it around, 65 bottles of beer on the wall\n",
      "65 bottles of beer on the wall, 65 bottlesof beer.\n",
      "Take one down, pass it around, 64 bottles of beer on the wall\n",
      "64 bottles of beer on the wall, 64 bottlesof beer.\n",
      "Take one down, pass it around, 63 bottles of beer on the wall\n",
      "63 bottles of beer on the wall, 63 bottlesof beer.\n",
      "Take one down, pass it around, 62 bottles of beer on the wall\n",
      "62 bottles of beer on the wall, 62 bottlesof beer.\n",
      "Take one down, pass it around, 61 bottles of beer on the wall\n",
      "61 bottles of beer on the wall, 61 bottlesof beer.\n",
      "Take one down, pass it around, 60 bottles of beer on the wall\n",
      "60 bottles of beer on the wall, 60 bottlesof beer.\n",
      "Take one down, pass it around, 59 bottles of beer on the wall\n",
      "59 bottles of beer on the wall, 59 bottlesof beer.\n",
      "Take one down, pass it around, 58 bottles of beer on the wall\n",
      "58 bottles of beer on the wall, 58 bottlesof beer.\n",
      "Take one down, pass it around, 57 bottles of beer on the wall\n",
      "57 bottles of beer on the wall, 57 bottlesof beer.\n",
      "Take one down, pass it around, 56 bottles of beer on the wall\n",
      "56 bottles of beer on the wall, 56 bottlesof beer.\n",
      "Take one down, pass it around, 55 bottles of beer on the wall\n",
      "55 bottles of beer on the wall, 55 bottlesof beer.\n",
      "Take one down, pass it around, 54 bottles of beer on the wall\n",
      "54 bottles of beer on the wall, 54 bottlesof beer.\n",
      "Take one down, pass it around, 53 bottles of beer on the wall\n",
      "53 bottles of beer on the wall, 53 bottlesof beer.\n",
      "Take one down, pass it around, 52 bottles of beer on the wall\n",
      "52 bottles of beer on the wall, 52 bottlesof beer.\n",
      "Take one down, pass it around, 51 bottles of beer on the wall\n",
      "51 bottles of beer on the wall, 51 bottlesof beer.\n",
      "Take one down, pass it around, 50 bottles of beer on the wall\n",
      "50 bottles of beer on the wall, 50 bottlesof beer.\n",
      "Take one down, pass it around, 49 bottles of beer on the wall\n",
      "49 bottles of beer on the wall, 49 bottlesof beer.\n",
      "Take one down, pass it around, 48 bottles of beer on the wall\n",
      "48 bottles of beer on the wall, 48 bottlesof beer.\n",
      "Take one down, pass it around, 47 bottles of beer on the wall\n",
      "47 bottles of beer on the wall, 47 bottlesof beer.\n",
      "Take one down, pass it around, 46 bottles of beer on the wall\n",
      "46 bottles of beer on the wall, 46 bottlesof beer.\n",
      "Take one down, pass it around, 45 bottles of beer on the wall\n",
      "45 bottles of beer on the wall, 45 bottlesof beer.\n",
      "Take one down, pass it around, 44 bottles of beer on the wall\n",
      "44 bottles of beer on the wall, 44 bottlesof beer.\n",
      "Take one down, pass it around, 43 bottles of beer on the wall\n",
      "43 bottles of beer on the wall, 43 bottlesof beer.\n",
      "Take one down, pass it around, 42 bottles of beer on the wall\n",
      "42 bottles of beer on the wall, 42 bottlesof beer.\n",
      "Take one down, pass it around, 41 bottles of beer on the wall\n",
      "41 bottles of beer on the wall, 41 bottlesof beer.\n",
      "Take one down, pass it around, 40 bottles of beer on the wall\n",
      "40 bottles of beer on the wall, 40 bottlesof beer.\n",
      "Take one down, pass it around, 39 bottles of beer on the wall\n",
      "39 bottles of beer on the wall, 39 bottlesof beer.\n",
      "Take one down, pass it around, 38 bottles of beer on the wall\n",
      "38 bottles of beer on the wall, 38 bottlesof beer.\n",
      "Take one down, pass it around, 37 bottles of beer on the wall\n",
      "37 bottles of beer on the wall, 37 bottlesof beer.\n",
      "Take one down, pass it around, 36 bottles of beer on the wall\n",
      "36 bottles of beer on the wall, 36 bottlesof beer.\n",
      "Take one down, pass it around, 35 bottles of beer on the wall\n",
      "35 bottles of beer on the wall, 35 bottlesof beer.\n",
      "Take one down, pass it around, 34 bottles of beer on the wall\n",
      "34 bottles of beer on the wall, 34 bottlesof beer.\n",
      "Take one down, pass it around, 33 bottles of beer on the wall\n",
      "33 bottles of beer on the wall, 33 bottlesof beer.\n",
      "Take one down, pass it around, 32 bottles of beer on the wall\n",
      "32 bottles of beer on the wall, 32 bottlesof beer.\n",
      "Take one down, pass it around, 31 bottles of beer on the wall\n",
      "31 bottles of beer on the wall, 31 bottlesof beer.\n",
      "Take one down, pass it around, 30 bottles of beer on the wall\n",
      "30 bottles of beer on the wall, 30 bottlesof beer.\n",
      "Take one down, pass it around, 29 bottles of beer on the wall\n",
      "29 bottles of beer on the wall, 29 bottlesof beer.\n",
      "Take one down, pass it around, 28 bottles of beer on the wall\n",
      "28 bottles of beer on the wall, 28 bottlesof beer.\n",
      "Take one down, pass it around, 27 bottles of beer on the wall\n",
      "27 bottles of beer on the wall, 27 bottlesof beer.\n",
      "Take one down, pass it around, 26 bottles of beer on the wall\n",
      "26 bottles of beer on the wall, 26 bottlesof beer.\n",
      "Take one down, pass it around, 25 bottles of beer on the wall\n",
      "25 bottles of beer on the wall, 25 bottlesof beer.\n",
      "Take one down, pass it around, 24 bottles of beer on the wall\n",
      "24 bottles of beer on the wall, 24 bottlesof beer.\n",
      "Take one down, pass it around, 23 bottles of beer on the wall\n",
      "23 bottles of beer on the wall, 23 bottlesof beer.\n",
      "Take one down, pass it around, 22 bottles of beer on the wall\n",
      "22 bottles of beer on the wall, 22 bottlesof beer.\n",
      "Take one down, pass it around, 21 bottles of beer on the wall\n",
      "21 bottles of beer on the wall, 21 bottlesof beer.\n",
      "Take one down, pass it around, 20 bottles of beer on the wall\n",
      "20 bottles of beer on the wall, 20 bottlesof beer.\n",
      "Take one down, pass it around, 19 bottles of beer on the wall\n",
      "19 bottles of beer on the wall, 19 bottlesof beer.\n",
      "Take one down, pass it around, 18 bottles of beer on the wall\n",
      "18 bottles of beer on the wall, 18 bottlesof beer.\n",
      "Take one down, pass it around, 17 bottles of beer on the wall\n",
      "17 bottles of beer on the wall, 17 bottlesof beer.\n",
      "Take one down, pass it around, 16 bottles of beer on the wall\n",
      "16 bottles of beer on the wall, 16 bottlesof beer.\n",
      "Take one down, pass it around, 15 bottles of beer on the wall\n",
      "15 bottles of beer on the wall, 15 bottlesof beer.\n",
      "Take one down, pass it around, 14 bottles of beer on the wall\n",
      "14 bottles of beer on the wall, 14 bottlesof beer.\n",
      "Take one down, pass it around, 13 bottles of beer on the wall\n",
      "13 bottles of beer on the wall, 13 bottlesof beer.\n",
      "Take one down, pass it around, 12 bottles of beer on the wall\n",
      "12 bottles of beer on the wall, 12 bottlesof beer.\n",
      "Take one down, pass it around, 11 bottles of beer on the wall\n",
      "11 bottles of beer on the wall, 11 bottlesof beer.\n",
      "Take one down, pass it around, 10 bottles of beer on the wall\n",
      "10 bottles of beer on the wall, 10 bottlesof beer.\n",
      "Take one down, pass it around, 9 bottles of beer on the wall\n",
      "9 bottles of beer on the wall, 9 bottlesof beer.\n",
      "Take one down, pass it around, 8 bottles of beer on the wall\n",
      "8 bottles of beer on the wall, 8 bottlesof beer.\n",
      "Take one down, pass it around, 7 bottles of beer on the wall\n",
      "7 bottles of beer on the wall, 7 bottlesof beer.\n",
      "Take one down, pass it around, 6 bottles of beer on the wall\n",
      "6 bottles of beer on the wall, 6 bottlesof beer.\n",
      "Take one down, pass it around, 5 bottles of beer on the wall\n",
      "5 bottles of beer on the wall, 5 bottlesof beer.\n",
      "Take one down, pass it around, 4 bottles of beer on the wall\n",
      "4 bottles of beer on the wall, 4 bottlesof beer.\n",
      "Take one down, pass it around, 3 bottles of beer on the wall\n",
      "3 bottles of beer on the wall, 3 bottlesof beer.\n",
      "Take one down, pass it around, 2 bottles of beer on the wall\n",
      "2 bottles of beer on the wall, 2 bottlesof beer.\n",
      "Take one down, pass it around, 1 bottles of beer on the wall\n",
      "1 bottle of beer on the wall, 1 bottlesof beer.\n",
      "Take one down, pass it around, 0 bottle of beer on the wall\n"
     ]
    }
   ],
   "source": [
    "for bottles in range(99,0,-1):\n",
    "    print(f\"{bottles} bottle{'s' if bottles >1 else ''} of beer on the wall, {bottles} bottle{'s' if bottles>0 else ''}of beer.\") \n",
    "    print(f\"Take one down, pass it around, {bottles-1} bottle{'s' if bottles>1 else ''} of beer on the wall\")\n",
    "\n"
   ]
  },
  {
   "cell_type": "markdown",
   "metadata": {},
   "source": [
    "### Lost in translation"
   ]
  },
  {
   "cell_type": "markdown",
   "metadata": {},
   "source": [
    "Here's a simple real-world application from the ever-growing field of Bioinformatics. Genetic information is stored in DNA, which is a sequence of 4 bases (the nucleotides, conventionally indicated by the uppercase letters A, C, T, G). Thus a part of a gene might look like the string [\"GATTACA\"](https://en.wikipedia.org/wiki/Gattaca). During [translation](https://en.wikipedia.org/wiki/Translation_(biology)), molecular machinery converts the genetic sequence to a string of aminoacids constituting a protein (proteins are the building blocks of our bodies). In particular, DNA is read as a sequence of three-letter long \"words\" (the *codons*), each of which identifies an aminoacid. Aminoacids are also written as uppercase alphabet letters. So a sequence like \"ATACAACCTGGTTCA\" would be segmented as \"(ATA)(CAA)(CCT)(GGT)(TCA)\" and translated to \"IQPGS\", according to the [standard genetic code](https://en.wikipedia.org/wiki/DNA_codon_table) (see also the dictionary below). In reality, these sequences are a few thousand characters long, hence the need for Bioinformaticians to crunch them. Happily, if we discard all the chemistry, this is just straightforward string processing. \n",
    "\n",
    "Write a program that asks the user for a nucleotide sequence and translates it into aminoacids. Use the genetic code table given below as a dictionary to look up the codons and perform the translation."
   ]
  },
  {
   "cell_type": "code",
   "execution_count": 70,
   "metadata": {},
   "outputs": [],
   "source": [
    "# The standard genetic code\n",
    "gencode = {\n",
    "    'ATA':'I', 'ATC':'I', 'ATT':'I', 'ATG':'M',\n",
    "    'ACA':'T', 'ACC':'T', 'ACG':'T', 'ACT':'T',\n",
    "    'AAC':'N', 'AAT':'N', 'AAA':'K', 'AAG':'K',\n",
    "    'AGC':'S', 'AGT':'S', 'AGA':'R', 'AGG':'R',\n",
    "    'CTA':'L', 'CTC':'L', 'CTG':'L', 'CTT':'L',\n",
    "    'CCA':'P', 'CCC':'P', 'CCG':'P', 'CCT':'P',\n",
    "    'CAC':'H', 'CAT':'H', 'CAA':'Q', 'CAG':'Q',\n",
    "    'CGA':'R', 'CGC':'R', 'CGG':'R', 'CGT':'R',\n",
    "    'GTA':'V', 'GTC':'V', 'GTG':'V', 'GTT':'V',\n",
    "    'GCA':'A', 'GCC':'A', 'GCG':'A', 'GCT':'A',\n",
    "    'GAC':'D', 'GAT':'D', 'GAA':'E', 'GAG':'E',\n",
    "    'GGA':'G', 'GGC':'G', 'GGG':'G', 'GGT':'G',\n",
    "    'TCA':'S', 'TCC':'S', 'TCG':'S', 'TCT':'S',\n",
    "    'TTC':'F', 'TTT':'F', 'TTA':'L', 'TTG':'L',\n",
    "    'TAC':'Y', 'TAT':'Y', 'TAA':'_', 'TAG':'_',\n",
    "    'TGC':'C', 'TGT':'C', 'TGA':'_', 'TGG':'W'}\n"
   ]
  },
  {
   "cell_type": "code",
   "execution_count": 72,
   "metadata": {},
   "outputs": [
    {
     "name": "stdin",
     "output_type": "stream",
     "text": [
      "Enter nucleotide sequence ata\n"
     ]
    },
    {
     "name": "stdout",
     "output_type": "stream",
     "text": [
      "\n"
     ]
    }
   ],
   "source": [
    "user_input=input(\"Enter nucleotide sequence\")\n",
    "nucleotide=\"\"\n",
    "for x in user_input: \n",
    "    nucletide=nucleotide+key.get(x,x)\n",
    "print(nucleotide)"
   ]
  },
  {
   "cell_type": "markdown",
   "metadata": {},
   "source": [
    "**(C) 2014,2020 Fabrizio Smeraldi** ([f.smeraldi@qmul.ac.uk](mailto:f.smeraldi@qmul.ac.uk) - [web](http://www.eecs.qmul.ac.uk/~fabri/)), all rights reserved. In: \"Computer Programming\", School of Electronic Engineering and Computer Science, Queen Mary University of London."
   ]
  }
 ],
 "metadata": {
  "kernelspec": {
   "display_name": "Python 3 (ipykernel)",
   "language": "python",
   "name": "python3"
  },
  "language_info": {
   "codemirror_mode": {
    "name": "ipython",
    "version": 3
   },
   "file_extension": ".py",
   "mimetype": "text/x-python",
   "name": "python",
   "nbconvert_exporter": "python",
   "pygments_lexer": "ipython3",
   "version": "3.11.9"
  }
 },
 "nbformat": 4,
 "nbformat_minor": 4
}
