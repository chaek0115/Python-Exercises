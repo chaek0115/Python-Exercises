{
 "cells": [
  {
   "cell_type": "markdown",
   "metadata": {},
   "source": [
    "### List basics"
   ]
  },
  {
   "cell_type": "markdown",
   "metadata": {},
   "source": [
    "Create an empty list [] called ```myList```.\n",
    "* Add the following words using the ``` .append() ``` method:\n",
    "    * \"the\"\n",
    "    * \"quick\"\n",
    "    * \"brown\"\n",
    "    * \"fox\"\n",
    "    * \"jumps\"\n",
    "    * \"over\"\n",
    "* Print the list to check all words are there\n",
    "* Create another list called ```barker``` containing the words \"the\", \"lazy\", \"dog\"\n",
    "* Use the ``` .extend() ``` method to add the ```barker``` list at the end of ```myList```\n",
    "* Print the result\n",
    "* Print the first word of the list\n",
    "* Print the word \"fox\" by indexing\n",
    "* Print the length of the list (use ```len()```) \n",
    "* Print the last word of the list using ```myList[len(myList) - 1]```\n",
    "* Print the last word of the list using ```myList[-1]```\n",
    "* Print the first three words and the last three words\n",
    "* Print the sublist [\"brown\", \"fox\"]\n",
    "* Use ```.remove()``` to delete \"the\"\n",
    "    * use the ```in``` operator to check if \"the\" is still in the list\n",
    "    * inspect the list; call ```.remove()``` again\n",
    "* Use ```.index('lazy')``` to find the index of the word \"lazy\".\n",
    "    * Check the result and store it in variable i\n",
    "* Use ```del myList[i]``` to delete the word \"lazy\"\n",
    "* Use ```.sort()``` to sort the list"
   ]
  },
  {
   "cell_type": "code",
   "execution_count": 41,
   "metadata": {},
   "outputs": [
    {
     "name": "stdout",
     "output_type": "stream",
     "text": [
      "Initial myList is:  ['the', 'quick', 'brown', 'fox', 'jumps', 'over']\n",
      "the barker list is:  ['the', 'lazy', 'dog']\n",
      "myList with barker list is:  ['the', 'quick', 'brown', 'fox', 'jumps', 'over', 'the', 'lazy', 'dog']\n",
      "\n",
      "the first word in the myList is:  the\n",
      "the 4th word in the list is:  fox\n",
      "the length of the list is:  9\n",
      "the last word of the list is:  dog\n",
      "the last word of the list is:  dog\n",
      "the first three words are:  ['the', 'quick', 'brown']\n",
      "the last three words are:  ['the', 'lazy', 'dog']\n",
      "\n",
      "sublist of brown is (list starting from brown): \n",
      "['brown', 'fox', 'jumps', 'over', 'the', 'lazy', 'dog']\n",
      "\n",
      "sublist of fox is (list starting from fox): \n",
      "['fox', 'jumps', 'over', 'the', 'lazy', 'dog']\n",
      "'the' is still in the list.\n",
      "all the 'the' have been removed.\n",
      "the index of 'lazy' is:  5\n",
      "new list after removing 'lazy:'  ['quick', 'brown', 'fox', 'jumps', 'over', 'dog']\n",
      "the final sorted list is:  ['brown', 'dog', 'fox', 'jumps', 'over', 'quick']\n"
     ]
    }
   ],
   "source": [
    "myList=[]\n",
    "myList.append(\"the\")\n",
    "myList.append(\"quick\")\n",
    "myList.append(\"brown\")\n",
    "myList.append(\"fox\")\n",
    "myList.append(\"jumps\")\n",
    "myList.append(\"over\")\n",
    "print(\"Initial myList is: \",myList)\n",
    "\n",
    "barker=[\"the\",\"lazy\",\"dog\"]\n",
    "print(\"the barker list is: \",barker)\n",
    "myList.extend(barker)\n",
    "print(\"myList with barker list is: \",myList)\n",
    "print()\n",
    "print(\"the first word in the myList is: \", myList[0])\n",
    "print(\"the 4th word in the list is: \",myList[3])\n",
    "print(\"the length of the list is: \",len(myList))\n",
    "print(\"the last word of the list is: \", myList[len(myList)-1])\n",
    "print(\"the last word of the list is: \", myList[-1])\n",
    "print(\"the first three words are: \", myList[0:3])\n",
    "print(\"the last three words are: \", myList[-3:])\n",
    "print() \n",
    "print(\"sublist of brown is (list starting from brown): \")\n",
    "brown_index=myList.index(\"brown\")\n",
    "print(myList[brown_index:])\n",
    "print()\n",
    "print(\"sublist of fox is (list starting from fox): \")\n",
    "fox_index=myList.index(\"fox\")\n",
    "print(myList[fox_index:])\n",
    "\n",
    "myList.remove(\"the\")\n",
    "if \"the\" in myList: \n",
    "    print(\"'the' is still in the list.\")\n",
    "else:\n",
    "    print(\"all the 'the' have been removed.\")\n",
    "myList.remove(\"the\")\n",
    "if \"the\" in myList: \n",
    "    print(\"'the' is still in the list.\")\n",
    "else:\n",
    "    print(\"all the 'the' have been removed.\")\n",
    "\n",
    "print(\"the index of 'lazy' is: \", myList.index(\"lazy\"))\n",
    "del myList[5]\n",
    "print(\"new list after removing 'lazy:' \",myList)\n",
    "\n",
    "myList.sort()\n",
    "print(\"the final sorted list is: \",myList)"
   ]
  },
  {
   "cell_type": "markdown",
   "metadata": {},
   "source": [
    "### List comprehensions"
   ]
  },
  {
   "cell_type": "markdown",
   "metadata": {},
   "source": [
    "Use the function ```range() ``` to create a lists of numbers from 0 till 10. Assign it to variable ```nums```"
   ]
  },
  {
   "cell_type": "code",
   "execution_count": 44,
   "metadata": {},
   "outputs": [],
   "source": [
    "nums=range(0,11)"
   ]
  },
  {
   "cell_type": "markdown",
   "metadata": {},
   "source": [
    "Use a comprehension to create a list of the treble of each number in ```nums```"
   ]
  },
  {
   "cell_type": "code",
   "execution_count": 49,
   "metadata": {},
   "outputs": [
    {
     "name": "stdout",
     "output_type": "stream",
     "text": [
      "the original list is:  [0, 1, 2, 3, 4, 5, 6, 7, 8, 9, 10]\n",
      "the trebled list is:  [0, 3, 6, 9, 12, 15, 18, 21, 24, 27, 30]\n"
     ]
    }
   ],
   "source": [
    "nums_list=list(nums)\n",
    "print(\"the original list is: \",nums_list)\n",
    "trebled_list=[i*3 for i in nums_list]\n",
    "print(\"the trebled list is: \", trebled_list)"
   ]
  },
  {
   "cell_type": "markdown",
   "metadata": {},
   "source": [
    "Use your favourite editor to write a program that asks a user for a number between 1 and 10 and prints a list with the multiplication table for that number"
   ]
  },
  {
   "cell_type": "code",
   "execution_count": 2,
   "metadata": {},
   "outputs": [
    {
     "name": "stdin",
     "output_type": "stream",
     "text": [
      "Enter your favorite number between 1 and 10:  2\n"
     ]
    },
    {
     "name": "stdout",
     "output_type": "stream",
     "text": [
      "[2, 4, 6, 8, 10, 12, 14, 16, 18, 20]\n"
     ]
    }
   ],
   "source": [
    "user_input=int(input(\"Enter your favorite number between 1 and 10: \"))\n",
    "print([user_input* x for x in range(1,11)])\n"
   ]
  },
  {
   "cell_type": "markdown",
   "metadata": {},
   "source": [
    "Write a comprehension to create the list ```[\"#\", \"##\", \"###\",...]``` (up to 10 hashes)"
   ]
  },
  {
   "cell_type": "code",
   "execution_count": 15,
   "metadata": {},
   "outputs": [
    {
     "name": "stdout",
     "output_type": "stream",
     "text": [
      "['#', '##', '###', '####', '#####', '######', '#######', '########', '#########', '##########']\n"
     ]
    }
   ],
   "source": [
    "print([x*\"#\" for x in range(1,11)])"
   ]
  },
  {
   "cell_type": "markdown",
   "metadata": {},
   "source": [
    "Write a list comprehension to compute the squares of all the numbers in ```nums```. Call this ```squares``` "
   ]
  },
  {
   "cell_type": "code",
   "execution_count": 16,
   "metadata": {},
   "outputs": [
    {
     "name": "stdout",
     "output_type": "stream",
     "text": [
      "[0, 1, 4, 9, 16, 25, 36, 49, 64, 81, 100]\n"
     ]
    }
   ],
   "source": [
    "squares=[x**2 for x in nums]\n",
    "print(squares)"
   ]
  },
  {
   "cell_type": "markdown",
   "metadata": {},
   "source": [
    "A trickier one: create a list that for each x in ```nums``` and y in ```squares``` contains the sentence \"The square of *x* is *y*\". Hint: try printing ```zip(nums, squares)```. Then, ```[ ... for (x,y) in zip(nums, squares)]```"
   ]
  },
  {
   "cell_type": "code",
   "execution_count": 20,
   "metadata": {},
   "outputs": [
    {
     "data": {
      "text/plain": [
       "['The square of 0 is 0',\n",
       " 'The square of 1 is 1',\n",
       " 'The square of 2 is 4',\n",
       " 'The square of 3 is 9',\n",
       " 'The square of 4 is 16',\n",
       " 'The square of 5 is 25',\n",
       " 'The square of 6 is 36',\n",
       " 'The square of 7 is 49',\n",
       " 'The square of 8 is 64',\n",
       " 'The square of 9 is 81',\n",
       " 'The square of 10 is 100']"
      ]
     },
     "execution_count": 20,
     "metadata": {},
     "output_type": "execute_result"
    }
   ],
   "source": [
    "[\"The square of \" + str(x)+ \" is \" +str(y) for (x,y) in zip(nums,squares)]"
   ]
  },
  {
   "cell_type": "markdown",
   "metadata": {},
   "source": [
    "### Hunt for Red October"
   ]
  },
  {
   "cell_type": "markdown",
   "metadata": {},
   "source": [
    "A secret message meant for the submarine Red October has been intercepted by your radio officer. Your intelligence team has established that every third character is good, while the rest is noise. However they cannot say if the secret message starts with the first, second or third character of the scrambled text, nor whether the scrambled text has been transcribed in the correct order or in reverse order.\n",
    "\n",
    "* use ```list()``` to convert the scrambled message to a list\n",
    "* index as appropriate to extract every 3rd character (this requires slicing - see the theory notebook)\n",
    "* try starting with second character, or if that doesn't work the third character of the scrambled message\n",
    "* use the ```.reverse()``` list method to reverse the scrambled message\n",
    "* again, try starting from the second and third characters\n",
    "* use ``` ''.join(some_list)``` to convert the lists back to strings for printing\n",
    "\n",
    "Can you do the same without converting the scrambled message to a list? (Hint: there's only one step that breaks down)"
   ]
  },
  {
   "cell_type": "code",
   "execution_count": 47,
   "metadata": {},
   "outputs": [
    {
     "name": "stdout",
     "output_type": "stream",
     "text": [
      "['Q', 'N', 'T', 'S', 'I', 'N', 'U', 'A', 'Y', 'G', 'T', 'O', 'T', 'P', 'E', 'N', 'A', 'O', 'G', 'C', 'S', 'Y', 'D', 'B', 'B', 'L', 'T', 'H', 'R', 'Y', 'T', 'O', 'Y', 'S', 'W', 'P', 'M', 'W', 'T', 'B', 'E', 'S', 'R', 'N', 'A', 'E', 'E', 'T', 'B', 'H', 'T', 'N', 'T', 'B', 'G', 'O', 'A', 'P', 'T', 'M', 'N', 'E', 'T', 'H', 'M', 'I', 'R', 'O', 'C', 'Y', 'C', 'G', 'U', 'L', 'A', 'Y', 'E', 'G', 'E', 'W', 'A']\n",
      "\n",
      "['W', 'E', 'L', 'C', 'O', 'M', 'E', 'T', 'O', 'T', 'H', 'E', 'N', 'E', 'W', 'W', 'O', 'R', 'L', 'D', 'C', 'A', 'P', 'T', 'A', 'I', 'N']\n",
      "\n",
      "the message is:  WELCOMETOTHENEWWORLDCAPTAIN\n"
     ]
    }
   ],
   "source": [
    "scrambled=\"QNTSINUAYGTOTPENAOGCSYDBBLTHRYTOYSWPMWTBESRNAEETBHTNTBGOAPTMNETHMIROCYCGULAYEGEWA\"\n",
    "list_scrambled=list(scrambled)\n",
    "print(list_scrambled)\n",
    "print()\n",
    "message=list_scrambled[1::3]\n",
    "message.reverse()\n",
    "print(message)\n",
    "print()\n",
    "print(\"the message is: \",''.join(message))"
   ]
  },
  {
   "cell_type": "code",
   "execution_count": 53,
   "metadata": {},
   "outputs": [
    {
     "name": "stdout",
     "output_type": "stream",
     "text": [
      "the messageis:  WELCOMETOTHENEWWORLDCAPTAIN\n"
     ]
    }
   ],
   "source": [
    "scrambled=\"QNTSINUAYGTOTPENAOGCSYDBBLTHRYTOYSWPMWTBESRNAEETBHTNTBGOAPTMNETHMIROCYCGULAYEGEWA\"\n",
    "scrambled_list=list(scrambled)\n",
    "message=scrambled_list[1::3][::-1]\n",
    "print(\"the messageis: \",''.join(message))"
   ]
  },
  {
   "cell_type": "markdown",
   "metadata": {},
   "source": [
    "### IATA codes"
   ]
  },
  {
   "cell_type": "markdown",
   "metadata": {},
   "source": [
    "IATA codes are three-letter standard codes that identify airports.\n",
    "\n",
    "* Create an empty dictionary {} called ```iata_codes```\n",
    "* Add the IATA code for a few airports and their names, using codes as keys:\n",
    "    * \"LHR\": \"London Heathrow\"\n",
    "    * \"DOG\": \"Dongola (Sudan)\"\n",
    "    * \"CAT\": \"Cascais (Portugal)\"\n",
    "    * \"GOI\": \"Goa (India)\"\n",
    "    * \"GOA\": \"Genoa (Italy)\"\n",
    "    * ...add your own!\n",
    "* Print the dictionary and notice the order of the elements\n",
    "* Print out the list of ```.keys()```\n",
    "* Print the list of ```.values()```\n",
    "* Print the list of ```.items()```\n",
    "* Use the ```in``` operator to find out if \"CAT\" is a known IATA code\n",
    "* Use ```.pop() ``` to delete key \"DOG\""
   ]
  },
  {
   "cell_type": "code",
   "execution_count": 72,
   "metadata": {},
   "outputs": [
    {
     "name": "stdout",
     "output_type": "stream",
     "text": [
      "{'LHR': 'London Heathrow', 'DOG': 'Dongola(Sudan)', 'CAT': 'Cascais(Portugal)', 'GOI': 'GOA(India)', 'GOA': 'Genoa(Italy)'}\n",
      "the keys are:\n",
      " dict_keys(['LHR', 'DOG', 'CAT', 'GOI', 'GOA'])\n",
      "\n",
      "the values are:\n",
      " dict_values(['London Heathrow', 'Dongola(Sudan)', 'Cascais(Portugal)', 'GOA(India)', 'Genoa(Italy)'])\n",
      "\n",
      "the items are:\n",
      "  dict_items([('LHR', 'London Heathrow'), ('DOG', 'Dongola(Sudan)'), ('CAT', 'Cascais(Portugal)'), ('GOI', 'GOA(India)'), ('GOA', 'Genoa(Italy)')])\n",
      "\n",
      "'CAT' in the codes: True\n",
      "\n",
      "the new list is:  {'LHR': 'London Heathrow', 'CAT': 'Cascais(Portugal)', 'GOI': 'GOA(India)', 'GOA': 'Genoa(Italy)'}\n"
     ]
    }
   ],
   "source": [
    "iata_codes={\"LHR\":\"London Heathrow\",\"DOG\":\"Dongola(Sudan)\",\"CAT\":\"Cascais(Portugal)\",\"GOI\":\"GOA(India)\",\"GOA\":\"Genoa(Italy)\"}\n",
    "print(iata_codes)\n",
    "print(\"the keys are:\\n\", iata_codes.keys())\n",
    "print()\n",
    "print(\"the values are:\\n\",iata_codes.values())\n",
    "print()\n",
    "print(\"the items are:\\n \", iata_codes.items())\n",
    "print()\n",
    "print(\"'CAT' in the codes:\", \"CAT\" in iata_codes)\n",
    "iata_codes.pop(\"DOG\")\n",
    "print()\n",
    "print(\"the new list is: \",iata_codes)\n",
    "\n"
   ]
  },
  {
   "cell_type": "markdown",
   "metadata": {
    "editable": true,
    "slideshow": {
     "slide_type": ""
    },
    "tags": []
   },
   "source": [
    "Write a program that asks the user to enter an IATA code and converts it to uppercase (just in case). The program should then print  \"Airport name: \" followed by the name of the airport if the code is in the dictionary, or by \"unknown\" otherwise. Use the ```.get()``` method of Python dictionaries."
   ]
  },
  {
   "cell_type": "code",
   "execution_count": 75,
   "metadata": {},
   "outputs": [
    {
     "name": "stdin",
     "output_type": "stream",
     "text": [
      "Enter an IATA code from (LHR, DOG, CAT, GOI, GOA):  LHR\n"
     ]
    },
    {
     "name": "stdout",
     "output_type": "stream",
     "text": [
      "London Heathrow\n"
     ]
    }
   ],
   "source": [
    "user_input=input(\"Enter an IATA code from (LHR, DOG, CAT, GOI, GOA): \").upper()\n",
    "airport=iata_codes.get(user_input, \"unknown\")\n",
    "print(airport)\n"
   ]
  },
  {
   "cell_type": "markdown",
   "metadata": {},
   "source": [
    "### With complements - take 2"
   ]
  },
  {
   "cell_type": "markdown",
   "metadata": {},
   "source": [
    "The double helix of DNA is made of 2 strands, that latch on to each other like a zipper. Each strand is said to be the \"complement\" of the other (see the picture [here](https://en.wikipedia.org/wiki/DNA_replication)). Given a sequence, the complement is obtained by substituting ```'A'``` for ```'T'```, ```'T'``` for ```'A'```, ```'C'``` for ```'G'``` and ```'G'``` for ```'C'```, so that for instance the complement of ```\"GATTACA\"``` is ```\"CTAATGT\"```.\n",
    "\n",
    "Write a program that takes a DNA sequence as input and outputs its complement.\n",
    "* use ```list()``` to convert the input string to a list\n",
    "* build a dictionary with the complement of each nucleotide\n",
    "* use this dictionary in a list comprehension to generate the list of complements\n",
    "* use ``` ''.join(complement_list) ``` to turn the resulting list into a string"
   ]
  },
  {
   "cell_type": "code",
   "execution_count": 83,
   "metadata": {},
   "outputs": [
    {
     "name": "stdin",
     "output_type": "stream",
     "text": [
      "enter sequence:  atatat\n"
     ]
    },
    {
     "name": "stdout",
     "output_type": "stream",
     "text": [
      "['T', 'A', 'T', 'A', 'T', 'A']\n"
     ]
    }
   ],
   "source": [
    "user_input=input(\"enter sequence: \").upper()\n",
    "input_list=list(user_input)\n",
    "complement={\"A\":\"T\",\"T\":\"A\",\"C\":\"G\",\"G\":\"C\"}\n",
    "input_complement=[complement[x] for x in input_list]\n",
    "print(input_complement)"
   ]
  },
  {
   "cell_type": "markdown",
   "metadata": {},
   "source": [
    "### Counting vowels"
   ]
  },
  {
   "cell_type": "markdown",
   "metadata": {},
   "source": [
    "Write a program that counts the relative frequency of vowels in a string. Your program should\n",
    "* ask the user to enter a string\n",
    "* create a dictionary listing the number of time each vowel occurs in that string, such as for instance\n",
    "    ``` {'A': 1, 'E': 4, 'I': 2, 'O': 1, 'U': 2}```\n",
    "  (use the ```str.count``` method)\n",
    "* obtain the total number of vowels in the string (use the ```sum()``` function), and divide the number of occurences of each vowel by the total to get a relative frequency for each vowel\n",
    "* print out the results as a nice table.\n",
    "\n",
    "For instance if the input is ```\"A* Algorithm.\"``` your program should output\n",
    "```\n",
    "A: 0.5\n",
    "E: 0.0\n",
    "I: 0.25\n",
    "O: 0.25\n",
    "U: 0.0\n",
    "```\n",
    "(consonants, punctuation and other symbols are discarded; both lowercase and uppercase vowels count).\n",
    "Once you are satisfied that your program works, add the following line at the top:\n",
    "```\n",
    "from excerpts import *\n",
    "```\n",
    "(this assumes that the excerpts.py file is in the same directory as your program). This will import two excerpts (about 60 lines of text each) from 19th century literary works in English and in Italian, in the variables ```moby_dick``` and ```pinocchio```. Modify your program so that it processes those strings instead of keyboard input and see what you get.\n",
    "\n",
    "(Adapted from [Kasper Munch](https://github.com/kaspermunch))"
   ]
  },
  {
   "cell_type": "code",
   "execution_count": 93,
   "metadata": {},
   "outputs": [
    {
     "name": "stdin",
     "output_type": "stream",
     "text": [
      "Enter a string:  aaa\n"
     ]
    },
    {
     "name": "stdout",
     "output_type": "stream",
     "text": [
      "{'A': 3, 'E': 0, 'I': 0, 'O': 0, 'U': 0}\n",
      "3\n"
     ]
    }
   ],
   "source": [
    "text=input(\"Enter a string: \").upper()\n",
    "counts={'A':text.count('A'),\n",
    "       'E':text.count('E'),\n",
    "       'I':text.count('I'),\n",
    "       'O':text.count('O'),\n",
    "       'U':text.count('U')}\n",
    "print(counts)\n",
    "values=sum(counts.values())\n",
    "print(values)"
   ]
  },
  {
   "cell_type": "markdown",
   "metadata": {},
   "source": [
    "### Going bananas"
   ]
  },
  {
   "cell_type": "markdown",
   "metadata": {},
   "source": [
    "Create a dictionary called ```prices```. Add the following values:\n",
    "```\n",
    "\"banana\": 4,\n",
    "\"apple\": 2,\n",
    "\"orange\": 1.5,\n",
    "\"pear\": 3\n",
    "```\n",
    "\n",
    "Extract the list of prices and use ```sum()``` on that list to get the total price.\n",
    "\n"
   ]
  },
  {
   "cell_type": "code",
   "execution_count": 115,
   "metadata": {},
   "outputs": [
    {
     "name": "stdout",
     "output_type": "stream",
     "text": [
      "the total amount for all items are:  10.5 dollars\n"
     ]
    },
    {
     "name": "stdin",
     "output_type": "stream",
     "text": [
      "what did you buy?:  banana\n"
     ]
    },
    {
     "name": "stdout",
     "output_type": "stream",
     "text": [
      "the cost of your shopping was:  4 dollars\n"
     ]
    },
    {
     "name": "stdin",
     "output_type": "stream",
     "text": [
      "how many of it did you buy?:  4\n"
     ]
    },
    {
     "name": "stdout",
     "output_type": "stream",
     "text": [
      "the total shopping amount was:  16 dollars\n"
     ]
    }
   ],
   "source": [
    "price={\"banana\":4,\"apple\":2,\"orange\":1.5,\"pear\":3}\n",
    "total=sum(prices.values())\n",
    "print(\"the total amount for all items are: \",total, \"dollars\")\n",
    "\n",
    "shopping=input(\"what did you buy?: \").lower() \n",
    "cost=price.get(shopping)\n",
    "print(\"the cost of your shopping was: \", cost, \"dollars\")\n",
    "\n",
    "pcs=int(input(\"how many of it did you buy?: \"))\n",
    "if cost is not None: \n",
    "    amount = cost*pcs\n",
    "else: \n",
    "    amount = cost*0\n",
    "print(\"the total shopping amount was: \",amount,\"dollars\")\n",
    "    \n"
   ]
  },
  {
   "cell_type": "markdown",
   "metadata": {},
   "source": [
    "Then create another dictionary called ```stock``` that lists the number of items for each fruit, example\n",
    "```\n",
    "\"banana\": 5,\n",
    "\"apple\": 12,\n",
    "\"orange\": 6,\n",
    "\"pear\": 2\n",
    "```\n",
    "\n",
    "Compute the money you would make by selling all the ```stock``` at the given ```price```.\n",
    "Hint: start by obtaining the list of keys. Then use a list comprehension to multiply the\n",
    "stock by the price for each fruit.\n",
    "\n",
    "(adapted from [Erle Robotics](https://erlerobotics.gitbooks.io/erle-robotics-learning-python-gitbook-free/content/lists/exercises_list_and_dictionaries.html))"
   ]
  },
  {
   "cell_type": "code",
   "execution_count": 111,
   "metadata": {},
   "outputs": [
    {
     "name": "stdout",
     "output_type": "stream",
     "text": [
      "[20, 24, 9.0, 6]\n",
      "59.0\n"
     ]
    }
   ],
   "source": [
    "stock={\"banana\":5,\"apple\":12,\"orange\":6,\"pear\":2}\n",
    "item=stock.keys()\n",
    "qty=stock.values()\n",
    "\n",
    "profit=[stock[x]*price[x] for x in stock.keys()]\n",
    "print((profit))\n",
    "print(sum(profit))\n",
    "\n"
   ]
  },
  {
   "cell_type": "markdown",
   "metadata": {},
   "source": [
    "### Lord of the rings"
   ]
  },
  {
   "cell_type": "markdown",
   "metadata": {},
   "source": [
    "Lists and dictionaries can be listed in arbitary ways. It is very common to find a dictionary with some keys corresponding to lists. Try to do the following exercise (from [Erle Robotics](https://erlerobotics.gitbooks.io/erle-robotics-learning-python-gitbook-free/content/lists/exercises_list_and_dictionaries.html)):\n",
    "\n",
    "Given the following dictionary:\n",
    "```\n",
    "inventory = {\n",
    "    'gold' : 500,\n",
    "    'pouch' : ['flint', 'twine', 'gemstone'],\n",
    "    'backpack' : ['xylophone','dagger', 'bedroll','bread loaf']\n",
    "}\n",
    "```\n",
    "\n",
    "* Add a key to inventory called 'pocket'.\n",
    "* Set the value of 'pocket' to be a list consisting of the strings 'seashell', 'strange berry', and 'lint'.\n",
    "* ```.sort()``` the items in the list stored under the 'backpack' key.\n",
    "* Then ```.remove('dagger')``` from the list of items stored under the 'backpack' key.\n",
    "* Add 50 to the number stored under the 'gold' key.\n"
   ]
  },
  {
   "cell_type": "code",
   "execution_count": 129,
   "metadata": {},
   "outputs": [
    {
     "name": "stdout",
     "output_type": "stream",
     "text": [
      "the inventory: \n",
      " {'gold': 500, 'pouch': ['flint', 'twine', 'gemstone'], 'backpack': ['xylophone', 'dagger', 'bedroll', 'bread loaf'], 'pocket': ['key', 'seashell', 'strange berry', 'lint']}\n",
      "\n",
      "the sorted backpack: \n",
      " {'gold': 500, 'pouch': ['flint', 'twine', 'gemstone'], 'backpack': ['bedroll', 'bread loaf', 'dagger', 'xylophone'], 'pocket': ['key', 'seashell', 'strange berry', 'lint']}\n",
      "\n",
      "removed dagger:  {'gold': 500, 'pouch': ['flint', 'twine', 'gemstone'], 'backpack': ['bedroll', 'bread loaf', 'xylophone'], 'pocket': ['key', 'seashell', 'strange berry', 'lint']}\n",
      "\n",
      "more gold: \n",
      " {'gold': 550, 'pouch': ['flint', 'twine', 'gemstone'], 'backpack': ['bedroll', 'bread loaf', 'xylophone'], 'pocket': ['key', 'seashell', 'strange berry', 'lint']}\n"
     ]
    }
   ],
   "source": [
    "inventory = {\n",
    "    'gold' : 500,\n",
    "    'pouch' : ['flint', 'twine', 'gemstone'],\n",
    "    'backpack' : ['xylophone','dagger', 'bedroll','bread loaf']\n",
    "}\n",
    "\n",
    "inventory['pocket']=['key','seashell','strange berry','lint']\n",
    "print(\"the inventory: \\n\", inventory)\n",
    "print()\n",
    "\n",
    "inventory['backpack'].sort()\n",
    "print('the sorted backpack: \\n',inventory)\n",
    "print() \n",
    "\n",
    "inventory['backpack'].remove('dagger')\n",
    "print('removed dagger: ', inventory)\n",
    "print() \n",
    "\n",
    "inventory['gold']+=50\n",
    "print('more gold: \\n',inventory)\n"
   ]
  },
  {
   "cell_type": "markdown",
   "metadata": {},
   "source": [
    "### Bella Napoli"
   ]
  },
  {
   "cell_type": "markdown",
   "metadata": {},
   "source": [
    "Create a dictionary called ```toppings```. Add the names of at least three pizzas as keys. Each key should correspond to the list of toppings for that pizza.\n",
    "\n",
    "* Print the dictionary.\n",
    "* Use the ```in``` operator to check if the toppings for ```\"margherita\"``` include ```\"pineapple\"``` (hint: that should return ```False```).\n",
    "* Write a list comprehension to list the names of all pizzas that have a particular topping (eg all pizzas that have olives)."
   ]
  },
  {
   "cell_type": "code",
   "execution_count": 137,
   "metadata": {},
   "outputs": [
    {
     "name": "stdout",
     "output_type": "stream",
     "text": [
      "the pizza and the ingredients: \n",
      " {'margherita': ['mozzarella', 'basil', 'tomato sauce'], 'hawaii': ['ham', 'pineapple']}\n",
      "\n",
      "Does margherita pizza have pineapples?: \n",
      " False\n",
      "Does hawaii pizza have pineapples?: \n",
      " True\n"
     ]
    }
   ],
   "source": [
    "toppings={}\n",
    "toppings['margherita']=['mozzarella','basil','tomato sauce']\n",
    "toppings['hawaii']=['ham','pineapple']\n",
    "print('the pizza and the ingredients: \\n',toppings)\n",
    "print()\n",
    "print(\"Does margherita pizza have pineapples?: \\n\",'pineapple' in toppings['margherita'])\n",
    "print(\"Does hawaii pizza have pineapples?: \\n\", 'pineapple' in toppings['hawaii'])"
   ]
  },
  {
   "cell_type": "code",
   "execution_count": 141,
   "metadata": {},
   "outputs": [
    {
     "name": "stdout",
     "output_type": "stream",
     "text": [
      "the pizza and the ingredients: \n",
      " {'margherita': ['mozzarella', 'basil', 'tomato sauce'], 'hawaii': ['ham', 'pineapple']}\n",
      "\n",
      "Does margherita have any pineapples?\n",
      "no, go ahead\n"
     ]
    }
   ],
   "source": [
    "toppings={}\n",
    "toppings['margherita']=['mozzarella','basil','tomato sauce']\n",
    "toppings['hawaii']=['ham','pineapple']\n",
    "print('the pizza and the ingredients: \\n',toppings)\n",
    "print()\n",
    "\n",
    "print(\"Does margherita have any pineapples?\")\n",
    "while True: \n",
    "    if 'pineapple' in toppings['margherita']:\n",
    "        print(\"yes, margherita has pineapples unfortunately.\")\n",
    "    else:\n",
    "        print(\"no, go ahead\")\n",
    "    break\n",
    "        "
   ]
  },
  {
   "cell_type": "code",
   "execution_count": null,
   "metadata": {},
   "outputs": [],
   "source": []
  }
 ],
 "metadata": {
  "kernelspec": {
   "display_name": "Python 3 (ipykernel)",
   "language": "python",
   "name": "python3"
  },
  "language_info": {
   "codemirror_mode": {
    "name": "ipython",
    "version": 3
   },
   "file_extension": ".py",
   "mimetype": "text/x-python",
   "name": "python",
   "nbconvert_exporter": "python",
   "pygments_lexer": "ipython3",
   "version": "3.11.9"
  }
 },
 "nbformat": 4,
 "nbformat_minor": 4
}
