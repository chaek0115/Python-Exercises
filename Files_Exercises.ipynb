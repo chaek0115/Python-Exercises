{
 "cells": [
  {
   "cell_type": "markdown",
   "metadata": {},
   "source": [
    "### Simple notepad"
   ]
  },
  {
   "cell_type": "markdown",
   "metadata": {},
   "source": [
    "Write a note-taking script that keeps asking the user for text and writes it to a file called ```notes.txt``` one line at a time, until the user writes the word ```exit``` alone on a line. This word should not be saved.\n",
    "\n",
    "Then write, in a separate cell, a script that prints the contents of ```notes.txt``` to the screen.\n",
    "\n",
    "Note that each time you run the note-taking script file ```notes.txt``` is cleared. To avoid this, modify the script so that it opens the file for appending instead of for writing - simply change the ```'w'``` into an ```'a'``` in the ```open()``` statement."
   ]
  },
  {
   "cell_type": "code",
   "execution_count": 45,
   "metadata": {},
   "outputs": [
    {
     "name": "stdin",
     "output_type": "stream",
     "text": [
      "Enter your item. If finished, enter exit:  banana\n",
      "Enter your item. If finished, enter exit:  grape\n",
      "Enter your item. If finished, enter exit:  chocolate\n",
      "Enter your item. If finished, enter exit:  milk\n",
      "Enter your item. If finished, enter exit:  exit\n"
     ]
    }
   ],
   "source": [
    "OUTF=open('shopping_list2.txt','a')\n",
    "OUTF.write('I need to buy...\\n')\n",
    "\n",
    "while True: \n",
    "    notes=input('Enter your item. If finished, enter exit: ').strip()\n",
    "    if notes =='exit': \n",
    "        break\n",
    "    else:\n",
    "        OUTF.write(notes + '\\n')\n",
    "\n",
    "OUTF.close()  \n",
    "    "
   ]
  },
  {
   "cell_type": "code",
   "execution_count": 46,
   "metadata": {},
   "outputs": [
    {
     "data": {
      "text/html": [
       "<a href='shopping_list2.txt' target='_blank'>shopping_list2.txt</a><br>"
      ],
      "text/plain": [
       "/home/jovyan/teaching_material/ECS780P/cp-files/shopping_list2.txt"
      ]
     },
     "execution_count": 46,
     "metadata": {},
     "output_type": "execute_result"
    }
   ],
   "source": [
    "from IPython.display import FileLink\n",
    "FileLink('shopping_list2.txt')"
   ]
  },
  {
   "cell_type": "code",
   "execution_count": null,
   "metadata": {},
   "outputs": [
    {
     "name": "stdin",
     "output_type": "stream",
     "text": [
      "Enter what you what to eat:  steak\n",
      "Enter what you what to eat:  healthy food\n"
     ]
    }
   ],
   "source": [
    "note = open('food_list.txt', 'a')\n",
    "note.write('I want to eat...\\n')\n",
    "\n",
    "while True: \n",
    "    list = input('Enter what you what to eat: ').strip()\n",
    "    if list == 'exit':\n",
    "        break\n",
    "    else: \n",
    "        note.write(list + '\\n')\n",
    "\n",
    "note.close()\n",
    "                    "
   ]
  },
  {
   "cell_type": "markdown",
   "metadata": {},
   "source": [
    "### Save your pennies"
   ]
  },
  {
   "cell_type": "markdown",
   "metadata": {},
   "source": [
    "Write a program that reads a simple ```.csv``` file with the cost of shopping items. Your program should ask the user for the name of the file and print the total cost.\n",
    "\n",
    "An example input file should look like the one below: \n",
    "```\n",
    "milk,2.00\n",
    "bananas,1.25\n",
    "hamburger,4.95\n",
    "chocolate,25.00\n",
    "supplements,3.50\n",
    "```\n",
    "you can create one using the note-taking program you wrote above, directly using a text editor on your local machine or clicking on ```New > Text File``` on the Jupyter Notebook interface.\n",
    "\n",
    "*Optional*: Add extra functionality to your program, such it is also prints a line that reads\n",
    "```\n",
    "Savings tips: you could cut down on the [...]\n",
    "```\n",
    "followed by the name of the *least* expensive item."
   ]
  },
  {
   "cell_type": "code",
   "execution_count": 57,
   "metadata": {},
   "outputs": [
    {
     "name": "stdin",
     "output_type": "stream",
     "text": [
      "What is the name of the file you wish to open?:  shopping_list\n"
     ]
    },
    {
     "name": "stdout",
     "output_type": "stream",
     "text": [
      "the total cost is:  138.8\n"
     ]
    }
   ],
   "source": [
    "file_name = input('What is the name of the file you wish to open?: ')\n",
    "FILE=open(file_name + '.csv','r')\n",
    "FILE.readline()\n",
    "item=0\n",
    "price=0.00\n",
    "for line in FILE:\n",
    "    entries = line.split(',')\n",
    "    item+=1\n",
    "    price+=float(entries[1])\n",
    "FILE.close() \n",
    "\n",
    "print('the total cost is: ', price*item)\n",
    "\n",
    "# optional - how to define most and least expensive item?"
   ]
  },
  {
   "cell_type": "markdown",
   "metadata": {},
   "source": [
    "### Word count"
   ]
  },
  {
   "cell_type": "markdown",
   "metadata": {},
   "source": [
    "The Unix ```wc``` command prints the number of lines, words and characters in a text file (type ```man wc``` in a terminal for more details). Write a program that asks the user for the name of a file, reads it and does the same. Process the file line by line; you can assume words are separated by a space."
   ]
  },
  {
   "cell_type": "code",
   "execution_count": 6,
   "metadata": {},
   "outputs": [
    {
     "name": "stdout",
     "output_type": "stream",
     "text": [
      " 4  5 70 shopping_list.csv\n"
     ]
    }
   ],
   "source": [
    "# shows in order of: lines, words, characters\n",
    "# !wc (system command, not a python command)\n",
    "\n",
    "!wc shopping_list.csv"
   ]
  },
  {
   "cell_type": "code",
   "execution_count": 1,
   "metadata": {},
   "outputs": [
    {
     "name": "stdout",
     "output_type": "stream",
     "text": [
      " 1  5 31 greetings.txt\n"
     ]
    }
   ],
   "source": [
    "!wc greetings.txt"
   ]
  },
  {
   "cell_type": "code",
   "execution_count": 5,
   "metadata": {},
   "outputs": [
    {
     "name": "stdin",
     "output_type": "stream",
     "text": [
      "Enter the file name:  shopping_list\n"
     ]
    },
    {
     "name": "stdout",
     "output_type": "stream",
     "text": [
      "Lines: 5\n",
      "Words: 5\n",
      "Characters: 70\n"
     ]
    }
   ],
   "source": [
    "# try - except\n",
    "\n",
    "file_name = input('Enter the file name: ')\n",
    "try:\n",
    "    file = open(file_name + '.csv', 'r')\n",
    "    line_count = 0 \n",
    "    word_count = 0 \n",
    "    char_count = 0 \n",
    "\n",
    "    for line in file: \n",
    "        line_count += 1\n",
    "        words = line.split()\n",
    "        word_count += len(words)\n",
    "        char_count += len(line)\n",
    "\n",
    "    print(f'Lines: {line_count}')\n",
    "    print(f'Words: {word_count}')\n",
    "    print(f'Characters: {char_count}')\n",
    "\n",
    "    file.close()\n",
    "\n",
    "except FileNotFoundError: \n",
    "    print('File not found')"
   ]
  },
  {
   "cell_type": "code",
   "execution_count": 33,
   "metadata": {},
   "outputs": [
    {
     "name": "stdin",
     "output_type": "stream",
     "text": [
      "Enter the file name:  shopping_list\n"
     ]
    },
    {
     "name": "stdout",
     "output_type": "stream",
     "text": [
      "Line count: 1\n",
      "word count: 1\n",
      "character count: 16\n"
     ]
    }
   ],
   "source": [
    "#practice - line, words, character\n",
    "\n",
    "file_name = input('Enter the file name: ')\n",
    "try:\n",
    "    file = open(file_name + '.csv', 'r')\n",
    "    line_count = 0 \n",
    "    word_count = 0 \n",
    "    char_count = 0 \n",
    "\n",
    "    if line in file: \n",
    "        line_count += 1\n",
    "        words = line.split()\n",
    "        word_count += len(words)\n",
    "        char_count = len(line)\n",
    "\n",
    "    print(f'Line count: {line_count}')  #f\"\" makes any variables {} possible \n",
    "    print(f'word count: {word_count}')\n",
    "    print(f'character count: {char_count}')\n",
    "\n",
    "    file.close()\n",
    "\n",
    "except FileNotFoundError: \n",
    "    print('File Not Found. Enter the correct file name')\n",
    "\n",
    "\n"
   ]
  },
  {
   "cell_type": "markdown",
   "metadata": {},
   "source": [
    "### Mash them up"
   ]
  },
  {
   "cell_type": "markdown",
   "metadata": {},
   "source": [
    "The Unix command ```cat``` allows you to concatenate the content of two files by appending the contents of the second file to those of the first file. In this exercise, we are going to create a program that combines the files, so to speak, \"side by side\", by concatenating corresponding lines.\n",
    "\n",
    "Your program should ask the user for the names of the first (left-hand) input file, the second (right-hand) file and the output file. It should also ask for a separator string. It should then start reading one line at a time from each of the left- and right-hand files, and combine them to the output file as follows:\n",
    "```\n",
    "\"line from left-hand file\" + \"separator string\" + \"line from right-hand file\" + \"\\n\"\n",
    "```\n",
    "So for instance if the left-hand file is a CSV file with 3 columns, the right-hand file is a CSV file with two columns and the string separator is ```\", 0,\"``` the result will be a CSV file with 6 columns: the 3 columns from the left-hand file, a column of zeros inserted by the separator, and the two columns from the right-hand file.\n",
    "\n",
    "In order to keep the output consistent, your program should terminate when the shortest of the two input files runs out."
   ]
  },
  {
   "cell_type": "code",
   "execution_count": 36,
   "metadata": {},
   "outputs": [
    {
     "name": "stdin",
     "output_type": "stream",
     "text": [
      "Enter the name of the first file shopping_list\n",
      "Enter the name of the second file marksheet\n",
      "Enter the name of the combined file combined\n",
      "Enter the separator string 0\n"
     ]
    },
    {
     "name": "stdout",
     "output_type": "stream",
     "text": [
      "File Not Found\n"
     ]
    }
   ],
   "source": [
    "first_file_name = input('Enter the name of the first file')\n",
    "second_file_name = input('Enter the name of the second file')\n",
    "output_file_name = input('Enter the name of the combined file')\n",
    "separator = input('Enter the separator string')\n",
    "\n",
    "\n",
    "try:\n",
    "    left_file = open(first_file_name + '.csv', 'r') \n",
    "    right_file = open(second_file_name + '.csv', 'r')\n",
    "    output_file = open(output_file_name + 'csv', 'r')\n",
    "    \n",
    "    while True: \n",
    "        left_line = left_file.readline().strip()\n",
    "        right_line = right_file.readline().strip()\n",
    "\n",
    "        if not left_line and not right_line: \n",
    "            break\n",
    "\n",
    "        if not left_line:\n",
    "            left_line = ''\n",
    "        if not right_line: \n",
    "            right_line = ''\n",
    "\n",
    "        output_file.write(f\"{left_line}{separator}{right_line}\\n\")\n",
    "    print(f\"Files combined into {output_file_name}\")\n",
    "\n",
    "    file.close()\n",
    "\n",
    "except FileNotFoundError:\n",
    "    print('File Not Found')"
   ]
  },
  {
   "cell_type": "code",
   "execution_count": null,
   "metadata": {},
   "outputs": [],
   "source": []
  },
  {
   "cell_type": "markdown",
   "metadata": {},
   "source": [
    "### Counting vowels... and more"
   ]
  },
  {
   "cell_type": "markdown",
   "metadata": {},
   "source": [
    "Retrieve the code you wrote for the \"Counting vowels\" exercise (Notebook *Collections-Exercises*).\n",
    "\n",
    "* Modify it so that, instead of processing a string, it reads a text file \n",
    "* Process the file line by line. \n",
    "* Go ahead, download an entire book from [Project Gutenberg](https://www.gutenberg.org/) and try crunching it.\n",
    "* Can you use a loop to compute the frequency of all letters of the alphabet, instead of just the five vowels?\n",
    "\n",
    "\n",
    "Hint No 1: There are two ways of doing this. The first is, loop over each line in the file tallying one character at a time. The second is, for each line in the file, loop over the alphabet and call the ```str.count``` method to see how many times each letter occurs in that line. The first one is maybe more natural.\n",
    "\n",
    "Hint No 2: the command\n",
    "```\n",
    "from string import ascii_uppercase\n",
    "```\n",
    "will import variable ```ascii_uppercase``` with the entire uppercase alphabet from module ```string``` in the standard library. You can substitute ```ascii_lowercase``` for that if you prefer."
   ]
  },
  {
   "cell_type": "code",
   "execution_count": null,
   "metadata": {},
   "outputs": [],
   "source": [
    "# Counting vowels \n",
    "\n",
    "#user_input=input('write a string')\n",
    "#user_input=user_input.upper()\n",
    "#vowel_count={'A':1,'E':4,'I':2,'O':1,'U':5}\n",
    "#vowel_count.values()\n",
    "#sum(vowel_count.values())\n",
    "\n"
   ]
  },
  {
   "cell_type": "code",
   "execution_count": 46,
   "metadata": {},
   "outputs": [
    {
     "name": "stdin",
     "output_type": "stream",
     "text": [
      "Enter the file name shopping_list\n"
     ]
    },
    {
     "name": "stdout",
     "output_type": "stream",
     "text": [
      "total vowel count sum: 14\n"
     ]
    }
   ],
   "source": [
    "file_name = input('Enter the file name')\n",
    "vowel_count = {'A':1, 'E':1, 'I':1, 'O':1, 'U':1}\n",
    "\n",
    "try:\n",
    "    file = open(file_name + '.csv', 'r')\n",
    "    content = file.read().upper()\n",
    "    total_sum = 0 \n",
    "    for char in content: \n",
    "        if char in vowel_count: \n",
    "            total_sum += vowel_count[char]\n",
    "\n",
    "    print(f'total vowel count sum: {total_sum}')\n",
    "\n",
    "    file.close()\n",
    "\n",
    "except FileNotFoundError: \n",
    "    print('File not found')\n"
   ]
  },
  {
   "cell_type": "code",
   "execution_count": 10,
   "metadata": {},
   "outputs": [
    {
     "name": "stdin",
     "output_type": "stream",
     "text": [
      "Enter the name of the file:  marsheet\n"
     ]
    },
    {
     "name": "stdout",
     "output_type": "stream",
     "text": [
      "File Not Found\n"
     ]
    }
   ],
   "source": [
    "file_name = input ('Enter the name of the file: ')\n",
    "vowels = {'A':1, 'E':1, 'I':1, 'O':1, 'U':1}\n",
    "\n",
    "try: \n",
    "    file = open(file_name + '.csv', 'r') # opening the file \n",
    "    content = file.read().upper()  # making the entire content to a string\n",
    "    total_sum = 0  # total sum is integer (defining 'total_sum')\n",
    "\n",
    "    for char in content: \n",
    "        if char in vowels:  # if\n",
    "            total_sum += vowels[char]  # result \n",
    "    print(f'The count of vowels are: {vowels}' )\n",
    "\n",
    "    file.close()\n",
    "\n",
    "except FileNotFoundError: \n",
    "    print('File Not Found')"
   ]
  },
  {
   "cell_type": "code",
   "execution_count": 13,
   "metadata": {},
   "outputs": [
    {
     "name": "stdin",
     "output_type": "stream",
     "text": [
      "Enter the name of the file:  shopping_list\n"
     ]
    },
    {
     "name": "stdout",
     "output_type": "stream",
     "text": [
      "the total vowel sum is: 14 \n"
     ]
    }
   ],
   "source": [
    "file_name = input ('Enter the name of the file: ')\n",
    "vowels = {'A':1, 'E':1, 'I':1, 'O':1, 'U':1}\n",
    "\n",
    "try: \n",
    "    file = open(file_name + '.csv', 'r')\n",
    "    content = file.read().upper()  # HERE\n",
    "    vowel_sum = 0 \n",
    "\n",
    "    for char in content: \n",
    "        if char in vowels: \n",
    "            vowel_sum += vowels[char]    # HERE\n",
    "    print(f'the total vowel sum is: {vowel_sum} ')\n",
    "    file.close()\n",
    "\n",
    "except FileNotFoundError: \n",
    "    print('File Not Found')"
   ]
  },
  {
   "cell_type": "code",
   "execution_count": 16,
   "metadata": {},
   "outputs": [
    {
     "name": "stdin",
     "output_type": "stream",
     "text": [
      "Enter the name of the file:  shopping_list\n"
     ]
    },
    {
     "name": "stdout",
     "output_type": "stream",
     "text": [
      "the total vowel sum is: 14 \n"
     ]
    }
   ],
   "source": [
    "file_name = input ('Enter the name of the file: ')\n",
    "vowels = {'A':1, 'E':1, 'I':1, 'O':1, 'U':1}\n",
    "\n",
    "try: \n",
    "    file = open(file_name + '.csv', 'r')\n",
    "    vowel_sum = 0 \n",
    "\n",
    "    for char in content: \n",
    "        if char in vowels: \n",
    "            vowel_sum += vowels[char]    # HERE\n",
    "    print(f'the total vowel sum is: {vowel_sum} ')\n",
    "    file.close()\n",
    "\n",
    "except FileNotFoundError: \n",
    "    print('File Not Found')"
   ]
  },
  {
   "cell_type": "code",
   "execution_count": 19,
   "metadata": {},
   "outputs": [
    {
     "name": "stdin",
     "output_type": "stream",
     "text": [
      "Enter the name of the file:  shopping_list\n"
     ]
    },
    {
     "name": "stdout",
     "output_type": "stream",
     "text": [
      "the total vowel sum is: 14 \n"
     ]
    }
   ],
   "source": [
    "file_name = input ('Enter the name of the file: ')\n",
    "vowels = {'A':1, 'E':1, 'I':1, 'O':1, 'U':1}\n",
    "\n",
    "try: \n",
    "    with open(file_name + '.csv', 'r') as file: # with : \n",
    "        vowel_sum = 0 \n",
    "\n",
    "        for char in content: \n",
    "            if char in vowels: \n",
    "                vowel_sum += vowels[char]    # HERE\n",
    "        print(f'the total vowel sum is: {vowel_sum} ')\n",
    "        file.close()\n",
    "\n",
    "except FileNotFoundError: \n",
    "    print('File Not Found')"
   ]
  },
  {
   "cell_type": "code",
   "execution_count": null,
   "metadata": {},
   "outputs": [],
   "source": []
  }
 ],
 "metadata": {
  "kernelspec": {
   "display_name": "Python 3 (ipykernel)",
   "language": "python",
   "name": "python3"
  },
  "language_info": {
   "codemirror_mode": {
    "name": "ipython",
    "version": 3
   },
   "file_extension": ".py",
   "mimetype": "text/x-python",
   "name": "python",
   "nbconvert_exporter": "python",
   "pygments_lexer": "ipython3",
   "version": "3.11.9"
  }
 },
 "nbformat": 4,
 "nbformat_minor": 4
}
