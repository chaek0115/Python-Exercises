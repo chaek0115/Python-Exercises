{
 "cells": [
  {
   "cell_type": "markdown",
   "metadata": {},
   "source": [
    "### This is an exercise for python beginners"
   ]
  },
  {
   "cell_type": "markdown",
   "metadata": {},
   "source": [
    "###  1- Hello World"
   ]
  },
  {
   "cell_type": "markdown",
   "metadata": {},
   "source": [
    "Write a program that prints ```\"Hello World\"```. Don't use the notebook.\n",
    "* If you are working on your machine, use any text editor such as the simple Notepad or IDLE\n",
    "    * create a file called hello.py\n",
    "    * write the necessary code inside\n",
    "    * save the file\n",
    "    * open a command shell and change to the directory that contains the file\n",
    "    * run the file from the command line: ```python hello.py```\n",
    "    * watch ecstatically\n",
    "* If using a Binder or JupyterHub:\n",
    "    * click on new->terminal from the directory tab to open a terminal\n",
    "    * if necessary, in JupyterHub: change to the directory that contains the file\n",
    "    * type ```python hello.py``` to run the hello.py file provided\n",
    "    * watch ecstatically \n",
    "    * open the file from the directory page by clicking on it, modify it as suggested in Exercise 2 and save it\n",
    "    * try running it again\n",
    "\n",
    "If you get stuck, try doing this in a Binder - everything should just work out of the box."
   ]
  },
  {
   "cell_type": "code",
   "execution_count": 1,
   "metadata": {},
   "outputs": [
    {
     "name": "stdout",
     "output_type": "stream",
     "text": [
      "Hello World\n"
     ]
    }
   ],
   "source": [
    "print(\"Hello World\")"
   ]
  },
  {
   "cell_type": "markdown",
   "metadata": {},
   "source": [
    "### 2 - Proof of residence"
   ]
  },
  {
   "cell_type": "markdown",
   "metadata": {},
   "source": [
    "Modify your program so that it prints your name and address as you would on an envelope"
   ]
  },
  {
   "cell_type": "code",
   "execution_count": 2,
   "metadata": {},
   "outputs": [
    {
     "name": "stdin",
     "output_type": "stream",
     "text": [
      "Enter your name Ellie Cha\n",
      "Enter your address 54 Fellows Road, London\n"
     ]
    },
    {
     "name": "stdout",
     "output_type": "stream",
     "text": [
      "Ellie Cha, 54 Fellows Road, London\n"
     ]
    }
   ],
   "source": [
    "name_input=input(\"Enter your name\")\n",
    "address_input=input(\"Enter your address\")\n",
    "print(f\"{name_input}, {address_input}\")"
   ]
  },
  {
   "cell_type": "code",
   "execution_count": 5,
   "metadata": {},
   "outputs": [
    {
     "name": "stdin",
     "output_type": "stream",
     "text": [
      "Enter your name Ellie \n",
      "Enter your address London\n"
     ]
    },
    {
     "name": "stdout",
     "output_type": "stream",
     "text": [
      "Ellie  London\n"
     ]
    }
   ],
   "source": [
    "name_input=input(\"Enter your name\")\n",
    "address_input=input(\"Enter your address\")\n",
    "print(name_input, address_input)"
   ]
  },
  {
   "cell_type": "markdown",
   "metadata": {},
   "source": [
    "### 3 - Bugger off"
   ]
  },
  {
   "cell_type": "markdown",
   "metadata": {},
   "source": [
    "Write a program that asks for your name and insults you. From now on, I suggest you use the notebook - just click on the + sign in the toolbar to add a new code cell below this text if one isn't there already"
   ]
  },
  {
   "cell_type": "code",
   "execution_count": 3,
   "metadata": {},
   "outputs": [
    {
     "name": "stdin",
     "output_type": "stream",
     "text": [
      "What is your name? Ellie\n"
     ]
    },
    {
     "name": "stdout",
     "output_type": "stream",
     "text": [
      "Bugger off! Ellie\n"
     ]
    }
   ],
   "source": [
    "name_input=input(\"What is your name?\")\n",
    "print(\"Bugger off!\", name_input)"
   ]
  },
  {
   "cell_type": "code",
   "execution_count": 4,
   "metadata": {},
   "outputs": [
    {
     "name": "stdin",
     "output_type": "stream",
     "text": [
      "What is your name? Ellie\n"
     ]
    },
    {
     "name": "stdout",
     "output_type": "stream",
     "text": [
      "Bugger off! Ellie\n"
     ]
    }
   ],
   "source": [
    "name_input=input(\"What is your name?\")\n",
    "print(f\"Bugger off! {name_input}\")"
   ]
  },
  {
   "cell_type": "markdown",
   "metadata": {},
   "source": [
    "### 4 - Star Trek"
   ]
  },
  {
   "cell_type": "markdown",
   "metadata": {},
   "source": [
    "Write a program that asks you for a speed in km/h and converts it to furlongs/fortnight (ask Google for help with the conversion factor). Use it to convert the speed or light to furlongs/fortnight."
   ]
  },
  {
   "cell_type": "code",
   "execution_count": 8,
   "metadata": {},
   "outputs": [
    {
     "name": "stdin",
     "output_type": "stream",
     "text": [
      "Enter the speed in km/h 1\n"
     ]
    },
    {
     "name": "stdout",
     "output_type": "stream",
     "text": [
      "furlongs/fortnight is:  1670.245764734\n"
     ]
    }
   ],
   "source": [
    "speed_input=int(input(\"Enter the speed in km/h\"))\n",
    "furlongs=speed_input*1670.245764734\n",
    "print(\"furlongs/fortnight is: \", furlongs)"
   ]
  },
  {
   "cell_type": "markdown",
   "metadata": {},
   "source": [
    "### 5 - The real deal"
   ]
  },
  {
   "cell_type": "markdown",
   "metadata": {},
   "source": [
    "Write a program that asks for the length and width of your average studio shoebox in meters. Multiply the area by 19500 to obtain its price in Kensington, in pounds. Store in a variable and print the result including units. \n",
    "\n",
    "Multiply the average UK salary of £26500 by 0.75 to deduce taxes. Divide the price by the net salary to obtain the number of man-years it takes the average bloke to pay for the average shoebox.  \n",
    "\n",
    "Print all results including units. Use meaningful variable names for all the parameters (salary, cost per square meters). Include comments."
   ]
  },
  {
   "cell_type": "code",
   "execution_count": 13,
   "metadata": {},
   "outputs": [
    {
     "name": "stdin",
     "output_type": "stream",
     "text": [
      "Enter the length of your shoebox in meters:  2\n",
      "Enter the width of your shoebox in meters:  3\n"
     ]
    },
    {
     "name": "stdout",
     "output_type": "stream",
     "text": [
      "The price in Kensington for the area is 117000 pounds\n",
      "it takes 6 years to pay off\n"
     ]
    }
   ],
   "source": [
    "length=int(input(\"Enter the length of your shoebox in meters: \"))\n",
    "width=int(input(\"Enter the width of your shoebox in meters: \"))\n",
    "area=length*width\n",
    "Kensington=area*19500\n",
    "print(f\"The price in Kensington for the area is {Kensington} pounds\")\n",
    "taxed_sal=26500*0.75\n",
    "payment=round(Kensington/taxed_sal)\n",
    "print(f\"it takes {payment} years to pay off\")"
   ]
  },
  {
   "cell_type": "markdown",
   "metadata": {},
   "source": [
    "### 6 - Happy birthday"
   ]
  },
  {
   "cell_type": "markdown",
   "metadata": {},
   "source": [
    "Now for something a bit more cheerful: write a program that asks you for your age and prints ```\"Happy Birthday\"``` once for each year. Use the ```*```operator on a string to do that."
   ]
  },
  {
   "cell_type": "code",
   "execution_count": 14,
   "metadata": {},
   "outputs": [
    {
     "name": "stdin",
     "output_type": "stream",
     "text": [
      "How old are you? Answer in numbers 20\n"
     ]
    },
    {
     "name": "stdout",
     "output_type": "stream",
     "text": [
      "Happy BirthdayHappy BirthdayHappy BirthdayHappy BirthdayHappy BirthdayHappy BirthdayHappy BirthdayHappy BirthdayHappy BirthdayHappy BirthdayHappy BirthdayHappy BirthdayHappy BirthdayHappy BirthdayHappy BirthdayHappy BirthdayHappy BirthdayHappy BirthdayHappy BirthdayHappy Birthday\n"
     ]
    }
   ],
   "source": [
    "age=int(input(\"How old are you? Answer in numbers\").strip())\n",
    "print(\"Happy Birthday\"*age)"
   ]
  },
  {
   "cell_type": "markdown",
   "metadata": {},
   "source": [
    "### 7 - Operator madness"
   ]
  },
  {
   "cell_type": "code",
   "execution_count": null,
   "metadata": {},
   "outputs": [],
   "source": []
  },
  {
   "cell_type": "markdown",
   "metadata": {},
   "source": [
    "### 8 - Tea for You"
   ]
  },
  {
   "cell_type": "markdown",
   "metadata": {},
   "source": [
    "Amazingly, we can already tackle some simple problems in Bioinformatics: in genomics databases, sequences are given sometimes as DNA, and sometimes as RNA. The difference is a substituton of Thymine (written down as ```'T'```) with Uracil (written as ```'U'```). The other three letters allowed are in both cases ```'A'```, ```'C'```, ```'G'```.\n",
    "\n",
    "Write a program that replaces ```'U'``` with ```'T'``` in RNA sequences, making sure that it works whether the string is uppercase or lowercase and always outputs an uppercase string. Hint: to obtain help on, for instance, the ```str.replace()``` method type ```help(str.replace)``` in the cell below. Typing ```dir(str)``` will list all methods."
   ]
  },
  {
   "cell_type": "code",
   "execution_count": 18,
   "metadata": {},
   "outputs": [
    {
     "name": "stdout",
     "output_type": "stream",
     "text": [
      "The adjusted word is:  TET\n"
     ]
    }
   ],
   "source": [
    "DNAseq=\"TEA\"\n",
    "RNAseq=DNAseq.replace(\"A\",\"T\").upper() \n",
    "print(\"The adjusted word is: \", RNAseq)"
   ]
  },
  {
   "cell_type": "markdown",
   "metadata": {},
   "source": [
    "### 9 - With complements"
   ]
  },
  {
   "cell_type": "markdown",
   "metadata": {},
   "source": [
    "The double helix of DNA is made of 2 strands, that latch on to each other like a zipper. Each strand is said to be the \"complement\" of the other (see the picture [here](https://en.wikipedia.org/wiki/DNA_replication)). Given a sequence, the complement is obtained by substituting ```'A'``` for ```'T'```, ```'T'``` for ```'A'```, ```'C'``` for ```'G'``` and ```'G'``` for ```'C'```, so that for instance the complement of ```\"GATTACA\"``` is ```\"CTAATGT\"```.\n",
    "\n",
    "This is stretching it a bit, but there is a way to use ```str.replace()``` to transform a DNA sequence into its complement. Can you do that? It isn't hard to do, but there's a catch. Write a program that asks you for a sequence and outputs the complement."
   ]
  },
  {
   "cell_type": "code",
   "execution_count": 38,
   "metadata": {},
   "outputs": [
    {
     "name": "stdout",
     "output_type": "stream",
     "text": [
      "replaced DNA sequence is:  CTAATGT\n"
     ]
    }
   ],
   "source": [
    "DNAseq=\"GATTACA\"\n",
    "RNAseq=DNAseq.replace(\"A\",\"*\") #G*TT*C*\n",
    "RNAseq=RNAseq.replace(\"T\",\"A\") #G*AA*C*\n",
    "RNAseq=RNAseq.replace(\"*\",\"T\") #GTAATCT\n",
    "RNAseq=RNAseq.replace(\"C\",\"#\") #GTAAT#T\n",
    "RNAseq=RNAseq.replace(\"G\",\"C\") #CTAAT#T\n",
    "RNAseq=RNAseq.replace(\"#\",\"G\") #CTAATGA\n",
    "print(\"replaced DNA sequence is: \",RNAseq)\n",
    "\n",
    "\n",
    "\n"
   ]
  },
  {
   "cell_type": "code",
   "execution_count": null,
   "metadata": {},
   "outputs": [],
   "source": []
  }
 ],
 "metadata": {
  "kernelspec": {
   "display_name": "Python 3.10.12",
   "language": "python",
   "name": "python3.10.12"
  },
  "language_info": {
   "codemirror_mode": {
    "name": "ipython",
    "version": 3
   },
   "file_extension": ".py",
   "mimetype": "text/x-python",
   "name": "python",
   "nbconvert_exporter": "python",
   "pygments_lexer": "ipython3",
   "version": "3.10.12"
  }
 },
 "nbformat": 4,
 "nbformat_minor": 4
}
