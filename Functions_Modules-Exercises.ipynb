{
 "cells": [
  {
   "cell_type": "markdown",
   "metadata": {},
   "source": [
    "### Maximum of two"
   ]
  },
  {
   "cell_type": "code",
   "execution_count": 7,
   "metadata": {},
   "outputs": [
    {
     "data": {
      "text/plain": [
       "4"
      ]
     },
     "execution_count": 7,
     "metadata": {},
     "output_type": "execute_result"
    }
   ],
   "source": [
    "def max_of_two(x,y):\n",
    "    if x>y:\n",
    "        return x\n",
    "    elif y>x:\n",
    "        return y\n",
    "    else:\n",
    "        print(\"the two numbers are equal.\")\n",
    "\n",
    "max_of_two(3,4)\n",
    "    "
   ]
  },
  {
   "cell_type": "markdown",
   "metadata": {},
   "source": [
    "Define a function ```max_of_two()``` that takes two numbers as arguments and returns the largest of them. Use the if-then-else construct available in Python. (It is true that Python has the max() function built in, but writing it yourself is nevertheless a good exercise.)\n",
    "\n",
    "(Credits:  [Thorbjoern Lager](https://www.gu.se/english/about_the_university/staff/?languageId=100001&userId=xlagto))"
   ]
  },
  {
   "cell_type": "markdown",
   "metadata": {},
   "source": [
    "### Maximum of three"
   ]
  },
  {
   "cell_type": "markdown",
   "metadata": {},
   "source": [
    "Define a function ```max_of_three()``` that takes three numbers as arguments and returns the largest of them. Use if-then-else.\n",
    "\n",
    "(Credits:  [Thorbjoern Lager](https://www.gu.se/english/about_the_university/staff/?languageId=100001&userId=xlagto))"
   ]
  },
  {
   "cell_type": "code",
   "execution_count": 8,
   "metadata": {},
   "outputs": [
    {
     "data": {
      "text/plain": [
       "3"
      ]
     },
     "execution_count": 8,
     "metadata": {},
     "output_type": "execute_result"
    }
   ],
   "source": [
    "def max_of_three(x,y,z):\n",
    "    if x>y and x>z:\n",
    "        return x\n",
    "    elif y>x and y>z:\n",
    "        return y\n",
    "    elif z>x and z>y:\n",
    "        return z\n",
    "    else:\n",
    "        print(\"the three numbers are equal.\")\n",
    "\n",
    "max_of_three(3,2,1)"
   ]
  },
  {
   "cell_type": "markdown",
   "metadata": {},
   "source": [
    "### Maximum of many"
   ]
  },
  {
   "cell_type": "markdown",
   "metadata": {},
   "source": [
    "Define a function ```listMax()``` that takes a list as argument and returns a tuple with the maximum and its index in the list.\n",
    "\n",
    "(Credits:  [Thorbjoern Lager](https://www.gu.se/english/about_the_university/staff/?languageId=100001&userId=xlagto), adapted)"
   ]
  },
  {
   "cell_type": "code",
   "execution_count": 26,
   "metadata": {},
   "outputs": [
    {
     "name": "stdout",
     "output_type": "stream",
     "text": [
      "(6, 5)\n"
     ]
    }
   ],
   "source": [
    "def listmax(lst):\n",
    "    if len(lst)==0:\n",
    "        return None\n",
    "    \n",
    "    max_value=max(lst)\n",
    "    max_index=lst.index(max_value)\n",
    "\n",
    "    return(max_value, max_index)\n",
    "\n",
    "\n",
    "result=listmax([1,2,3,4,5,6])\n",
    "print(result)\n"
   ]
  },
  {
   "cell_type": "markdown",
   "metadata": {},
   "source": [
    "### Roll your own"
   ]
  },
  {
   "cell_type": "markdown",
   "metadata": {},
   "source": [
    "Take the three functions you coded above and put them in a file called ```mymax.py``` to make a module. Then try writing a simple program that starts with \n",
    "```\n",
    "import mymax\n",
    "```\n",
    "and calls the functions you wrote as ```mymax.max_of_three()```, etc"
   ]
  },
  {
   "cell_type": "code",
   "execution_count": 36,
   "metadata": {},
   "outputs": [
    {
     "name": "stdout",
     "output_type": "stream",
     "text": [
      "5\n",
      "6\n",
      "(9, 6)\n"
     ]
    }
   ],
   "source": [
    "import my_max\n",
    "result=my_max.max_of_two(4,5)\n",
    "print(result)\n",
    "\n",
    "result2=my_max.max_of_three(4,5,6)\n",
    "print(result2)\n",
    "\n",
    "result3=my_max.listmax([3,4,5,6,7,8,9])\n",
    "print(result3)"
   ]
  },
  {
   "cell_type": "markdown",
   "metadata": {},
   "source": [
    "### Histogram"
   ]
  },
  {
   "cell_type": "markdown",
   "metadata": {},
   "source": [
    "Define a procedure ```histogram()``` that takes a list of integers and prints a histogram to the screen. For example, ```histogram([4, 9, 7])``` should print the following:\n",
    "```\n",
    "****\n",
    "*********\n",
    "*******\n",
    "```\n",
    "Note: a *procedure* is a function that does not return any value, it simply *does* something.\n",
    "\n",
    "(Credits:  [Thorbjoern Lager](https://www.gu.se/english/about_the_university/staff/?languageId=100001&userId=xlagto))"
   ]
  },
  {
   "cell_type": "code",
   "execution_count": 44,
   "metadata": {},
   "outputs": [
    {
     "name": "stdout",
     "output_type": "stream",
     "text": [
      "*\n",
      "**\n",
      "***\n"
     ]
    }
   ],
   "source": [
    "def histogram(x):\n",
    "    for i in x:\n",
    "        print(\"*\"*i)\n",
    "\n",
    "histogram([1,2,3])"
   ]
  },
  {
   "cell_type": "markdown",
   "metadata": {},
   "source": [
    "### Got it all backwards"
   ]
  },
  {
   "cell_type": "markdown",
   "metadata": {},
   "source": [
    "Define a function ```reverse()``` that takes a string as an argument and returns it reversed. For instance,   ```reverse(\"I am testing\")``` should return the string \"gnitset ma I\".\n",
    "\n",
    "\n",
    "(Credits:  [Thorbjoern Lager](https://www.gu.se/english/about_the_university/staff/?languageId=100001&userId=xlagto))"
   ]
  },
  {
   "cell_type": "code",
   "execution_count": 56,
   "metadata": {},
   "outputs": [
    {
     "name": "stdout",
     "output_type": "stream",
     "text": [
      "gnitset ma I\n"
     ]
    }
   ],
   "source": [
    "def reverse(x):\n",
    "    return x[::-1]\n",
    "    \n",
    "result=reverse(\"I am testing\")\n",
    "print(result)"
   ]
  },
  {
   "cell_type": "markdown",
   "metadata": {},
   "source": [
    "### Palindromes"
   ]
  },
  {
   "cell_type": "markdown",
   "metadata": {},
   "source": [
    "A palindrome is a word or sentence that is unaltered when read backwards.\n",
    "\n",
    "Write a palindrome recognizer ```isPalindrome()``` that accepts phrase palindromes such as \"Go hang a salami I'm a lasagna hog.\", \"Was it a rat I saw?\", \"Step on no pets\", \"Sit on a potato pan, Otis\", \"Lisa Bonet ate no basil\", \"Satan, oscillate my metallic sonatas\", \"I roamed under it as a tired nude Maori\", \"Rise to vote sir\", or the exclamation \"Dammit, I'm mad!\". Note that punctuation, capitalization, and spacing are usually ignored. \n",
    "\n",
    "Your function should return ```True``` for palindromes and ```False``` otherwise. Your function should use the ```reverse()``` function you just programmed to do its job.\n",
    "\n",
    "(Credits:  [Thorbjoern Lager](https://www.gu.se/english/about_the_university/staff/?languageId=100001&userId=xlagto))"
   ]
  },
  {
   "cell_type": "code",
   "execution_count": 18,
   "metadata": {},
   "outputs": [
    {
     "name": "stdout",
     "output_type": "stream",
     "text": [
      "True\n"
     ]
    }
   ],
   "source": [
    "def reverse(x):\n",
    "    return x[::-1]\n",
    "\n",
    "def isPalindrome(y):\n",
    "    y=y.replace(\" \",\"\").replace(\",\",\"\").lower()\n",
    "    \n",
    "    if y==reverse(y):\n",
    "        return True \n",
    "    else: \n",
    "        return False\n",
    "            \n",
    "result=isPalindrome(\"Satan, oscillate my metallic sonatas\")\n",
    "print(result)\n"
   ]
  },
  {
   "cell_type": "markdown",
   "metadata": {},
   "source": [
    "### Lingo"
   ]
  },
  {
   "cell_type": "markdown",
   "metadata": {},
   "source": [
    "\n",
    "\n",
    "In a game of Lingo, there is a hidden word, five characters long. The object of the game is to find this word by guessing, and in return receive two kinds of clues: 1) the characters that are fully correct, with respect to identity as well as to position, and 2) the characters that are indeed present in the word, but which are placed in the wrong position. Write a program with which one can play Lingo. Use square brackets to mark characters correct in the sense of 1), and ordinary parentheses to mark characters correct in the sense of 2). For the sake of the exercise, your program should pass each character in the user input to a function that \"packages\" it in brackets (or not). In turn, this should use two separate functions to check if either 1) or 2) apply.\n",
    "\n",
    "Assuming, for example, that the program conceals the word \"tiger\", you should be able to interact with it in the following way:\n",
    "\n",
    "```\n",
    "snake\n",
    "Clue: snak(e)\n",
    "least\n",
    "Clue: l(e)as(t)\n",
    "times\n",
    "Clue: [t][i]m[e]s\n",
    "tiger\n",
    "Clue: [t][i][g][e][r]\n",
    "```\n",
    "\n",
    "(Credits:  [Thorbjoern Lager](https://www.gu.se/english/about_the_university/staff/?languageId=100001&userId=xlagto))"
   ]
  },
  {
   "cell_type": "code",
   "execution_count": 23,
   "metadata": {},
   "outputs": [
    {
     "name": "stdin",
     "output_type": "stream",
     "text": [
      "Enter your guess:  tiger\n"
     ]
    },
    {
     "name": "stdout",
     "output_type": "stream",
     "text": [
      "True\n"
     ]
    }
   ],
   "source": [
    "SECRET=\"tiger\"\n",
    "\n",
    "def feedback():\n",
    "    guess=input('Enter your guess: ')\n",
    "    if guess==SECRET:\n",
    "        return True\n",
    "    else:\n",
    "        return False\n",
    "print(feedback())"
   ]
  },
  {
   "cell_type": "code",
   "execution_count": null,
   "metadata": {},
   "outputs": [],
   "source": []
  }
 ],
 "metadata": {
  "kernelspec": {
   "display_name": "Python 3 (ipykernel)",
   "language": "python",
   "name": "python3"
  },
  "language_info": {
   "codemirror_mode": {
    "name": "ipython",
    "version": 3
   },
   "file_extension": ".py",
   "mimetype": "text/x-python",
   "name": "python",
   "nbconvert_exporter": "python",
   "pygments_lexer": "ipython3",
   "version": "3.11.9"
  }
 },
 "nbformat": 4,
 "nbformat_minor": 4
}
